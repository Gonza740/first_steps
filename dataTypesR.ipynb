{
 "cells": [
  {
   "cell_type": "markdown",
   "id": "b0efaba8-803c-4ffb-b959-72dc4275a71e",
   "metadata": {
    "tags": []
   },
   "source": [
    "# Data types\n",
    "In this notebook, I am talking about the pincipal types of data in R language, the sintaxis and operations.\n",
    "## Serching for help\n",
    "First step is know how can we get help. In this section you will learn the main tools for get help. The first tool which you can use to get help is \"help.start()\". With this you will find a menu fo resources such as manuals, referrences and other material to start to learn R. R has a system for help to get information about the functions and package installed. To get information about a function, for example, the \"print()\" function you can write \"?print\" in the command line."
   ]
  },
  {
   "cell_type": "code",
   "execution_count": 4,
   "id": "0e68b134-7717-4886-8f41-bd7ccfd79516",
   "metadata": {
    "collapsed": true,
    "jupyter": {
     "outputs_hidden": true
    },
    "tags": []
   },
   "outputs": [
    {
     "data": {
      "text/html": [
       "\n",
       "<table width=\"100%\" summary=\"page for print {base}\"><tr><td>print {base}</td><td style=\"text-align: right;\">R Documentation</td></tr></table>\n",
       "\n",
       "<h2>Print Values</h2>\n",
       "\n",
       "<h3>Description</h3>\n",
       "\n",
       "<p><code>print</code> prints its argument and returns it <em>invisibly</em> (via\n",
       "<code>invisible(x)</code>).  It is a generic function which means that\n",
       "new printing methods can be easily added for new <code>class</code>es.\n",
       "</p>\n",
       "\n",
       "\n",
       "<h3>Usage</h3>\n",
       "\n",
       "<pre>\n",
       "print(x, ...)\n",
       "\n",
       "## S3 method for class 'factor'\n",
       "print(x, quote = FALSE, max.levels = NULL,\n",
       "      width = getOption(\"width\"), ...)\n",
       "\n",
       "## S3 method for class 'table'\n",
       "print(x, digits = getOption(\"digits\"), quote = FALSE,\n",
       "      na.print = \"\", zero.print = \"0\",\n",
       "      right = is.numeric(x) || is.complex(x),\n",
       "      justify = \"none\", ...)\n",
       "\n",
       "## S3 method for class 'function'\n",
       "print(x, useSource = TRUE, ...)\n",
       "</pre>\n",
       "\n",
       "\n",
       "<h3>Arguments</h3>\n",
       "\n",
       "<table summary=\"R argblock\">\n",
       "<tr valign=\"top\"><td><code>x</code></td>\n",
       "<td>\n",
       "<p>an object used to select a method.</p>\n",
       "</td></tr>\n",
       "<tr valign=\"top\"><td><code>...</code></td>\n",
       "<td>\n",
       "<p>further arguments passed to or from other methods.</p>\n",
       "</td></tr>\n",
       "<tr valign=\"top\"><td><code>quote</code></td>\n",
       "<td>\n",
       "<p>logical, indicating whether or not strings should be\n",
       "printed with surrounding quotes.</p>\n",
       "</td></tr>\n",
       "<tr valign=\"top\"><td><code>max.levels</code></td>\n",
       "<td>\n",
       "<p>integer, indicating how many levels should be\n",
       "printed for a factor; if <code>0</code>, no extra &quot;Levels&quot; line will be\n",
       "printed.  The default, <code>NULL</code>, entails choosing <code>max.levels</code>\n",
       "such that the levels print on one line of width <code>width</code>.</p>\n",
       "</td></tr>\n",
       "<tr valign=\"top\"><td><code>width</code></td>\n",
       "<td>\n",
       "<p>only used when <code>max.levels</code> is NULL, see above.</p>\n",
       "</td></tr>\n",
       "<tr valign=\"top\"><td><code>digits</code></td>\n",
       "<td>\n",
       "<p>minimal number of <em>significant</em> digits, see\n",
       "<code>print.default</code>.</p>\n",
       "</td></tr>\n",
       "<tr valign=\"top\"><td><code>na.print</code></td>\n",
       "<td>\n",
       "<p>character string (or <code>NULL</code>) indicating\n",
       "<code>NA</code> values in printed output, see\n",
       "<code>print.default</code>.</p>\n",
       "</td></tr>\n",
       "<tr valign=\"top\"><td><code>zero.print</code></td>\n",
       "<td>\n",
       "<p>character specifying how zeros (<code>0</code>) should be\n",
       "printed; for sparse tables, using <code>\".\"</code> can produce more\n",
       "readable results, similar to printing sparse matrices in <a href=\"https://CRAN.R-project.org/package=Matrix\"><span class=\"pkg\">Matrix</span></a>.</p>\n",
       "</td></tr>\n",
       "<tr valign=\"top\"><td><code>right</code></td>\n",
       "<td>\n",
       "<p>logical, indicating whether or not strings should be\n",
       "right aligned.</p>\n",
       "</td></tr>\n",
       "<tr valign=\"top\"><td><code>justify</code></td>\n",
       "<td>\n",
       "<p>character indicating if strings should left- or\n",
       "right-justified or left alone, passed to <code>format</code>.</p>\n",
       "</td></tr>\n",
       "<tr valign=\"top\"><td><code>useSource</code></td>\n",
       "<td>\n",
       "<p>logical indicating if internally stored source\n",
       "should be used for printing when present, e.g., if\n",
       "<code>options(keep.source = TRUE)</code> has been in use.</p>\n",
       "</td></tr>\n",
       "</table>\n",
       "\n",
       "\n",
       "<h3>Details</h3>\n",
       "\n",
       "<p>The default method, <code>print.default</code> has its own help page.\n",
       "Use <code>methods(\"print\")</code> to get all the methods for the\n",
       "<code>print</code> generic.\n",
       "</p>\n",
       "<p><code>print.factor</code> allows some customization and is used for printing\n",
       "<code>ordered</code> factors as well.\n",
       "</p>\n",
       "<p><code>print.table</code> for printing <code>table</code>s allows other\n",
       "customization. As of R 3.0.0, it only prints a description in case of a table\n",
       "with 0-extents (this can happen if a classifier has no valid data).\n",
       "</p>\n",
       "<p>See <code>noquote</code> as an example of a class whose main\n",
       "purpose is a specific <code>print</code> method.\n",
       "</p>\n",
       "\n",
       "\n",
       "<h3>References</h3>\n",
       "\n",
       "<p>Chambers, J. M. and Hastie, T. J. (1992)\n",
       "<em>Statistical Models in S.</em>\n",
       "Wadsworth &amp; Brooks/Cole.\n",
       "</p>\n",
       "\n",
       "\n",
       "<h3>See Also</h3>\n",
       "\n",
       "<p>The default method <code>print.default</code>, and help for the\n",
       "methods above; further <code>options</code>, <code>noquote</code>.\n",
       "</p>\n",
       "<p>For more customizable (but cumbersome) printing, see\n",
       "<code>cat</code>, <code>format</code> or also <code>write</code>.\n",
       "For a simple prototypical print method, see\n",
       "<code>.print.via.format</code> in package <span class=\"pkg\">tools</span>.\n",
       "</p>\n",
       "\n",
       "\n",
       "<h3>Examples</h3>\n",
       "\n",
       "<pre>\n",
       "require(stats)\n",
       "\n",
       "ts(1:20)  #-- print is the \"Default function\" --&gt; print.ts(.) is called\n",
       "for(i in 1:3) print(1:i)\n",
       "\n",
       "## Printing of factors\n",
       "attenu$station ## 117 levels -&gt; 'max.levels' depending on width\n",
       "\n",
       "## ordered factors: levels  \"l1 &lt; l2 &lt; ..\"\n",
       "esoph$agegp[1:12]\n",
       "esoph$alcgp[1:12]\n",
       "\n",
       "## Printing of sparse (contingency) tables\n",
       "set.seed(521)\n",
       "t1 &lt;- round(abs(rt(200, df = 1.8)))\n",
       "t2 &lt;- round(abs(rt(200, df = 1.4)))\n",
       "table(t1, t2) # simple\n",
       "print(table(t1, t2), zero.print = \".\") # nicer to read\n",
       "\n",
       "## same for non-integer \"table\":\n",
       "T &lt;- table(t2,t1)\n",
       "T &lt;- T * (1+round(rlnorm(length(T)))/4)\n",
       "print(T, zero.print = \".\") # quite nicer,\n",
       "print.table(T[,2:8] * 1e9, digits=3, zero.print = \".\")\n",
       "## still slightly inferior to  Matrix::Matrix(T)  for larger T\n",
       "\n",
       "## Corner cases with empty extents:\n",
       "table(1, NA) # &lt; table of extent 1 x 0 &gt;\n",
       "</pre>\n",
       "\n",
       "<hr /><div style=\"text-align: center;\">[Package <em>base</em> version 3.6.1 ]</div>"
      ],
      "text/latex": [
       "\\inputencoding{utf8}\n",
       "\\HeaderA{print}{Print Values}{print}\n",
       "\\methaliasA{print.Dlist}{print}{print.Dlist}\n",
       "\\methaliasA{print.factor}{print}{print.factor}\n",
       "\\methaliasA{print.function}{print}{print.function}\n",
       "\\methaliasA{print.listof}{print}{print.listof}\n",
       "\\methaliasA{print.simple.list}{print}{print.simple.list}\n",
       "\\methaliasA{print.table}{print}{print.table}\n",
       "\\keyword{print}{print}\n",
       "%\n",
       "\\begin{Description}\\relax\n",
       "\\code{print} prints its argument and returns it \\emph{invisibly} (via\n",
       "\\code{\\LinkA{invisible}{invisible}(x)}).  It is a generic function which means that\n",
       "new printing methods can be easily added for new \\code{\\LinkA{class}{class}}es.\n",
       "\\end{Description}\n",
       "%\n",
       "\\begin{Usage}\n",
       "\\begin{verbatim}\n",
       "\n",
       "print(x, ...)\n",
       "\n",
       "## S3 method for class 'factor'\n",
       "print(x, quote = FALSE, max.levels = NULL,\n",
       "      width = getOption(\"width\"), ...)\n",
       "\n",
       "## S3 method for class 'table'\n",
       "print(x, digits = getOption(\"digits\"), quote = FALSE,\n",
       "      na.print = \"\", zero.print = \"0\",\n",
       "      right = is.numeric(x) || is.complex(x),\n",
       "      justify = \"none\", ...)\n",
       "\n",
       "## S3 method for class 'function'\n",
       "print(x, useSource = TRUE, ...)\n",
       "\\end{verbatim}\n",
       "\\end{Usage}\n",
       "%\n",
       "\\begin{Arguments}\n",
       "\\begin{ldescription}\n",
       "\\item[\\code{x}] an object used to select a method.\n",
       "\\item[\\code{...}] further arguments passed to or from other methods.\n",
       "\\item[\\code{quote}] logical, indicating whether or not strings should be\n",
       "printed with surrounding quotes.\n",
       "\\item[\\code{max.levels}] integer, indicating how many levels should be\n",
       "printed for a factor; if \\code{0}, no extra \"Levels\" line will be\n",
       "printed.  The default, \\code{NULL}, entails choosing \\code{max.levels}\n",
       "such that the levels print on one line of width \\code{width}.\n",
       "\\item[\\code{width}] only used when \\code{max.levels} is NULL, see above.\n",
       "\\item[\\code{digits}] minimal number of \\emph{significant} digits, see\n",
       "\\code{\\LinkA{print.default}{print.default}}.\n",
       "\\item[\\code{na.print}] character string (or \\code{NULL}) indicating\n",
       "\\code{\\LinkA{NA}{NA}} values in printed output, see\n",
       "\\code{\\LinkA{print.default}{print.default}}.\n",
       "\\item[\\code{zero.print}] character specifying how zeros (\\code{0}) should be\n",
       "printed; for sparse tables, using \\code{\".\"} can produce more\n",
       "readable results, similar to printing sparse matrices in \\Rhref{https://CRAN.R-project.org/package=Matrix}{\\pkg{Matrix}}.\n",
       "\\item[\\code{right}] logical, indicating whether or not strings should be\n",
       "right aligned.\n",
       "\\item[\\code{justify}] character indicating if strings should left- or\n",
       "right-justified or left alone, passed to \\code{\\LinkA{format}{format}}.\n",
       "\\item[\\code{useSource}] logical indicating if internally stored source\n",
       "should be used for printing when present, e.g., if\n",
       "\\code{\\LinkA{options}{options}(keep.source = TRUE)} has been in use.\n",
       "\\end{ldescription}\n",
       "\\end{Arguments}\n",
       "%\n",
       "\\begin{Details}\\relax\n",
       "The default method, \\code{\\LinkA{print.default}{print.default}} has its own help page.\n",
       "Use \\code{\\LinkA{methods}{methods}(\"print\")} to get all the methods for the\n",
       "\\code{print} generic.\n",
       "\n",
       "\\code{print.factor} allows some customization and is used for printing\n",
       "\\code{\\LinkA{ordered}{ordered}} factors as well.\n",
       "\n",
       "\\code{print.table} for printing \\code{\\LinkA{table}{table}}s allows other\n",
       "customization. As of R 3.0.0, it only prints a description in case of a table\n",
       "with 0-extents (this can happen if a classifier has no valid data).\n",
       "\n",
       "See \\code{\\LinkA{noquote}{noquote}} as an example of a class whose main\n",
       "purpose is a specific \\code{print} method.\n",
       "\\end{Details}\n",
       "%\n",
       "\\begin{References}\\relax\n",
       "Chambers, J. M. and Hastie, T. J. (1992)\n",
       "\\emph{Statistical Models in S.}\n",
       "Wadsworth \\& Brooks/Cole.\n",
       "\\end{References}\n",
       "%\n",
       "\\begin{SeeAlso}\\relax\n",
       "The default method \\code{\\LinkA{print.default}{print.default}}, and help for the\n",
       "methods above; further \\code{\\LinkA{options}{options}}, \\code{\\LinkA{noquote}{noquote}}.\n",
       "\n",
       "For more customizable (but cumbersome) printing, see\n",
       "\\code{\\LinkA{cat}{cat}}, \\code{\\LinkA{format}{format}} or also \\code{\\LinkA{write}{write}}.\n",
       "For a simple prototypical print method, see\n",
       "\\code{\\LinkA{.print.via.format}{.print.via.format}} in package \\pkg{tools}.\n",
       "\\end{SeeAlso}\n",
       "%\n",
       "\\begin{Examples}\n",
       "\\begin{ExampleCode}\n",
       "require(stats)\n",
       "\n",
       "ts(1:20)  #-- print is the \"Default function\" --> print.ts(.) is called\n",
       "for(i in 1:3) print(1:i)\n",
       "\n",
       "## Printing of factors\n",
       "attenu$station ## 117 levels -> 'max.levels' depending on width\n",
       "\n",
       "## ordered factors: levels  \"l1 < l2 < ..\"\n",
       "esoph$agegp[1:12]\n",
       "esoph$alcgp[1:12]\n",
       "\n",
       "## Printing of sparse (contingency) tables\n",
       "set.seed(521)\n",
       "t1 <- round(abs(rt(200, df = 1.8)))\n",
       "t2 <- round(abs(rt(200, df = 1.4)))\n",
       "table(t1, t2) # simple\n",
       "print(table(t1, t2), zero.print = \".\") # nicer to read\n",
       "\n",
       "## same for non-integer \"table\":\n",
       "T <- table(t2,t1)\n",
       "T <- T * (1+round(rlnorm(length(T)))/4)\n",
       "print(T, zero.print = \".\") # quite nicer,\n",
       "print.table(T[,2:8] * 1e9, digits=3, zero.print = \".\")\n",
       "## still slightly inferior to  Matrix::Matrix(T)  for larger T\n",
       "\n",
       "## Corner cases with empty extents:\n",
       "table(1, NA) # < table of extent 1 x 0 >\n",
       "\\end{ExampleCode}\n",
       "\\end{Examples}"
      ],
      "text/plain": [
       "print                   package:base                   R Documentation\n",
       "\n",
       "_\bP_\br_\bi_\bn_\bt _\bV_\ba_\bl_\bu_\be_\bs\n",
       "\n",
       "_\bD_\be_\bs_\bc_\br_\bi_\bp_\bt_\bi_\bo_\bn:\n",
       "\n",
       "     'print' prints its argument and returns it _invisibly_ (via\n",
       "     'invisible(x)').  It is a generic function which means that new\n",
       "     printing methods can be easily added for new 'class'es.\n",
       "\n",
       "_\bU_\bs_\ba_\bg_\be:\n",
       "\n",
       "     print(x, ...)\n",
       "     \n",
       "     ## S3 method for class 'factor'\n",
       "     print(x, quote = FALSE, max.levels = NULL,\n",
       "           width = getOption(\"width\"), ...)\n",
       "     \n",
       "     ## S3 method for class 'table'\n",
       "     print(x, digits = getOption(\"digits\"), quote = FALSE,\n",
       "           na.print = \"\", zero.print = \"0\",\n",
       "           right = is.numeric(x) || is.complex(x),\n",
       "           justify = \"none\", ...)\n",
       "     \n",
       "     ## S3 method for class 'function'\n",
       "     print(x, useSource = TRUE, ...)\n",
       "     \n",
       "_\bA_\br_\bg_\bu_\bm_\be_\bn_\bt_\bs:\n",
       "\n",
       "       x: an object used to select a method.\n",
       "\n",
       "     ...: further arguments passed to or from other methods.\n",
       "\n",
       "   quote: logical, indicating whether or not strings should be printed\n",
       "          with surrounding quotes.\n",
       "\n",
       "max.levels: integer, indicating how many levels should be printed for a\n",
       "          factor; if '0', no extra \"Levels\" line will be printed.  The\n",
       "          default, 'NULL', entails choosing 'max.levels' such that the\n",
       "          levels print on one line of width 'width'.\n",
       "\n",
       "   width: only used when 'max.levels' is NULL, see above.\n",
       "\n",
       "  digits: minimal number of _significant_ digits, see 'print.default'.\n",
       "\n",
       "na.print: character string (or 'NULL') indicating 'NA' values in\n",
       "          printed output, see 'print.default'.\n",
       "\n",
       "zero.print: character specifying how zeros ('0') should be printed; for\n",
       "          sparse tables, using '\".\"' can produce more readable results,\n",
       "          similar to printing sparse matrices in 'Matrix'.\n",
       "\n",
       "   right: logical, indicating whether or not strings should be right\n",
       "          aligned.\n",
       "\n",
       " justify: character indicating if strings should left- or\n",
       "          right-justified or left alone, passed to 'format'.\n",
       "\n",
       "useSource: logical indicating if internally stored source should be\n",
       "          used for printing when present, e.g., if 'options(keep.source\n",
       "          = TRUE)' has been in use.\n",
       "\n",
       "_\bD_\be_\bt_\ba_\bi_\bl_\bs:\n",
       "\n",
       "     The default method, 'print.default' has its own help page.  Use\n",
       "     'methods(\"print\")' to get all the methods for the 'print' generic.\n",
       "\n",
       "     'print.factor' allows some customization and is used for printing\n",
       "     'ordered' factors as well.\n",
       "\n",
       "     'print.table' for printing 'table's allows other customization. As\n",
       "     of R 3.0.0, it only prints a description in case of a table with\n",
       "     0-extents (this can happen if a classifier has no valid data).\n",
       "\n",
       "     See 'noquote' as an example of a class whose main purpose is a\n",
       "     specific 'print' method.\n",
       "\n",
       "_\bR_\be_\bf_\be_\br_\be_\bn_\bc_\be_\bs:\n",
       "\n",
       "     Chambers, J. M. and Hastie, T. J. (1992) _Statistical Models in\n",
       "     S._ Wadsworth & Brooks/Cole.\n",
       "\n",
       "_\bS_\be_\be _\bA_\bl_\bs_\bo:\n",
       "\n",
       "     The default method 'print.default', and help for the methods\n",
       "     above; further 'options', 'noquote'.\n",
       "\n",
       "     For more customizable (but cumbersome) printing, see 'cat',\n",
       "     'format' or also 'write'.  For a simple prototypical print method,\n",
       "     see '.print.via.format' in package 'tools'.\n",
       "\n",
       "_\bE_\bx_\ba_\bm_\bp_\bl_\be_\bs:\n",
       "\n",
       "     require(stats)\n",
       "     \n",
       "     ts(1:20)  #-- print is the \"Default function\" --> print.ts(.) is called\n",
       "     for(i in 1:3) print(1:i)\n",
       "     \n",
       "     ## Printing of factors\n",
       "     attenu$station ## 117 levels -> 'max.levels' depending on width\n",
       "     \n",
       "     ## ordered factors: levels  \"l1 < l2 < ..\"\n",
       "     esoph$agegp[1:12]\n",
       "     esoph$alcgp[1:12]\n",
       "     \n",
       "     ## Printing of sparse (contingency) tables\n",
       "     set.seed(521)\n",
       "     t1 <- round(abs(rt(200, df = 1.8)))\n",
       "     t2 <- round(abs(rt(200, df = 1.4)))\n",
       "     table(t1, t2) # simple\n",
       "     print(table(t1, t2), zero.print = \".\") # nicer to read\n",
       "     \n",
       "     ## same for non-integer \"table\":\n",
       "     T <- table(t2,t1)\n",
       "     T <- T * (1+round(rlnorm(length(T)))/4)\n",
       "     print(T, zero.print = \".\") # quite nicer,\n",
       "     print.table(T[,2:8] * 1e9, digits=3, zero.print = \".\")\n",
       "     ## still slightly inferior to  Matrix::Matrix(T)  for larger T\n",
       "     \n",
       "     ## Corner cases with empty extents:\n",
       "     table(1, NA) # < table of extent 1 x 0 >\n",
       "     "
      ]
     },
     "metadata": {},
     "output_type": "display_data"
    }
   ],
   "source": [
    "?print"
   ]
  },
  {
   "cell_type": "markdown",
   "id": "753e3986-aaef-4ba0-a69d-c98a9969a799",
   "metadata": {},
   "source": [
    "As you can see, ? symbol show you a brief description of the function, its arguments, etc. In the same order you can use help() function, it is equivalent to ?. When you use help() you need pass the name of the function with \"\", for example help(\"print\")."
   ]
  },
  {
   "cell_type": "code",
   "execution_count": 5,
   "id": "576e2363-b0d7-4f00-b9ed-881b629810cf",
   "metadata": {
    "collapsed": true,
    "jupyter": {
     "outputs_hidden": true
    },
    "tags": []
   },
   "outputs": [
    {
     "data": {
      "text/html": [
       "\n",
       "<table width=\"100%\" summary=\"page for print {base}\"><tr><td>print {base}</td><td style=\"text-align: right;\">R Documentation</td></tr></table>\n",
       "\n",
       "<h2>Print Values</h2>\n",
       "\n",
       "<h3>Description</h3>\n",
       "\n",
       "<p><code>print</code> prints its argument and returns it <em>invisibly</em> (via\n",
       "<code>invisible(x)</code>).  It is a generic function which means that\n",
       "new printing methods can be easily added for new <code>class</code>es.\n",
       "</p>\n",
       "\n",
       "\n",
       "<h3>Usage</h3>\n",
       "\n",
       "<pre>\n",
       "print(x, ...)\n",
       "\n",
       "## S3 method for class 'factor'\n",
       "print(x, quote = FALSE, max.levels = NULL,\n",
       "      width = getOption(\"width\"), ...)\n",
       "\n",
       "## S3 method for class 'table'\n",
       "print(x, digits = getOption(\"digits\"), quote = FALSE,\n",
       "      na.print = \"\", zero.print = \"0\",\n",
       "      right = is.numeric(x) || is.complex(x),\n",
       "      justify = \"none\", ...)\n",
       "\n",
       "## S3 method for class 'function'\n",
       "print(x, useSource = TRUE, ...)\n",
       "</pre>\n",
       "\n",
       "\n",
       "<h3>Arguments</h3>\n",
       "\n",
       "<table summary=\"R argblock\">\n",
       "<tr valign=\"top\"><td><code>x</code></td>\n",
       "<td>\n",
       "<p>an object used to select a method.</p>\n",
       "</td></tr>\n",
       "<tr valign=\"top\"><td><code>...</code></td>\n",
       "<td>\n",
       "<p>further arguments passed to or from other methods.</p>\n",
       "</td></tr>\n",
       "<tr valign=\"top\"><td><code>quote</code></td>\n",
       "<td>\n",
       "<p>logical, indicating whether or not strings should be\n",
       "printed with surrounding quotes.</p>\n",
       "</td></tr>\n",
       "<tr valign=\"top\"><td><code>max.levels</code></td>\n",
       "<td>\n",
       "<p>integer, indicating how many levels should be\n",
       "printed for a factor; if <code>0</code>, no extra &quot;Levels&quot; line will be\n",
       "printed.  The default, <code>NULL</code>, entails choosing <code>max.levels</code>\n",
       "such that the levels print on one line of width <code>width</code>.</p>\n",
       "</td></tr>\n",
       "<tr valign=\"top\"><td><code>width</code></td>\n",
       "<td>\n",
       "<p>only used when <code>max.levels</code> is NULL, see above.</p>\n",
       "</td></tr>\n",
       "<tr valign=\"top\"><td><code>digits</code></td>\n",
       "<td>\n",
       "<p>minimal number of <em>significant</em> digits, see\n",
       "<code>print.default</code>.</p>\n",
       "</td></tr>\n",
       "<tr valign=\"top\"><td><code>na.print</code></td>\n",
       "<td>\n",
       "<p>character string (or <code>NULL</code>) indicating\n",
       "<code>NA</code> values in printed output, see\n",
       "<code>print.default</code>.</p>\n",
       "</td></tr>\n",
       "<tr valign=\"top\"><td><code>zero.print</code></td>\n",
       "<td>\n",
       "<p>character specifying how zeros (<code>0</code>) should be\n",
       "printed; for sparse tables, using <code>\".\"</code> can produce more\n",
       "readable results, similar to printing sparse matrices in <a href=\"https://CRAN.R-project.org/package=Matrix\"><span class=\"pkg\">Matrix</span></a>.</p>\n",
       "</td></tr>\n",
       "<tr valign=\"top\"><td><code>right</code></td>\n",
       "<td>\n",
       "<p>logical, indicating whether or not strings should be\n",
       "right aligned.</p>\n",
       "</td></tr>\n",
       "<tr valign=\"top\"><td><code>justify</code></td>\n",
       "<td>\n",
       "<p>character indicating if strings should left- or\n",
       "right-justified or left alone, passed to <code>format</code>.</p>\n",
       "</td></tr>\n",
       "<tr valign=\"top\"><td><code>useSource</code></td>\n",
       "<td>\n",
       "<p>logical indicating if internally stored source\n",
       "should be used for printing when present, e.g., if\n",
       "<code>options(keep.source = TRUE)</code> has been in use.</p>\n",
       "</td></tr>\n",
       "</table>\n",
       "\n",
       "\n",
       "<h3>Details</h3>\n",
       "\n",
       "<p>The default method, <code>print.default</code> has its own help page.\n",
       "Use <code>methods(\"print\")</code> to get all the methods for the\n",
       "<code>print</code> generic.\n",
       "</p>\n",
       "<p><code>print.factor</code> allows some customization and is used for printing\n",
       "<code>ordered</code> factors as well.\n",
       "</p>\n",
       "<p><code>print.table</code> for printing <code>table</code>s allows other\n",
       "customization. As of R 3.0.0, it only prints a description in case of a table\n",
       "with 0-extents (this can happen if a classifier has no valid data).\n",
       "</p>\n",
       "<p>See <code>noquote</code> as an example of a class whose main\n",
       "purpose is a specific <code>print</code> method.\n",
       "</p>\n",
       "\n",
       "\n",
       "<h3>References</h3>\n",
       "\n",
       "<p>Chambers, J. M. and Hastie, T. J. (1992)\n",
       "<em>Statistical Models in S.</em>\n",
       "Wadsworth &amp; Brooks/Cole.\n",
       "</p>\n",
       "\n",
       "\n",
       "<h3>See Also</h3>\n",
       "\n",
       "<p>The default method <code>print.default</code>, and help for the\n",
       "methods above; further <code>options</code>, <code>noquote</code>.\n",
       "</p>\n",
       "<p>For more customizable (but cumbersome) printing, see\n",
       "<code>cat</code>, <code>format</code> or also <code>write</code>.\n",
       "For a simple prototypical print method, see\n",
       "<code>.print.via.format</code> in package <span class=\"pkg\">tools</span>.\n",
       "</p>\n",
       "\n",
       "\n",
       "<h3>Examples</h3>\n",
       "\n",
       "<pre>\n",
       "require(stats)\n",
       "\n",
       "ts(1:20)  #-- print is the \"Default function\" --&gt; print.ts(.) is called\n",
       "for(i in 1:3) print(1:i)\n",
       "\n",
       "## Printing of factors\n",
       "attenu$station ## 117 levels -&gt; 'max.levels' depending on width\n",
       "\n",
       "## ordered factors: levels  \"l1 &lt; l2 &lt; ..\"\n",
       "esoph$agegp[1:12]\n",
       "esoph$alcgp[1:12]\n",
       "\n",
       "## Printing of sparse (contingency) tables\n",
       "set.seed(521)\n",
       "t1 &lt;- round(abs(rt(200, df = 1.8)))\n",
       "t2 &lt;- round(abs(rt(200, df = 1.4)))\n",
       "table(t1, t2) # simple\n",
       "print(table(t1, t2), zero.print = \".\") # nicer to read\n",
       "\n",
       "## same for non-integer \"table\":\n",
       "T &lt;- table(t2,t1)\n",
       "T &lt;- T * (1+round(rlnorm(length(T)))/4)\n",
       "print(T, zero.print = \".\") # quite nicer,\n",
       "print.table(T[,2:8] * 1e9, digits=3, zero.print = \".\")\n",
       "## still slightly inferior to  Matrix::Matrix(T)  for larger T\n",
       "\n",
       "## Corner cases with empty extents:\n",
       "table(1, NA) # &lt; table of extent 1 x 0 &gt;\n",
       "</pre>\n",
       "\n",
       "<hr /><div style=\"text-align: center;\">[Package <em>base</em> version 3.6.1 ]</div>"
      ],
      "text/latex": [
       "\\inputencoding{utf8}\n",
       "\\HeaderA{print}{Print Values}{print}\n",
       "\\methaliasA{print.Dlist}{print}{print.Dlist}\n",
       "\\methaliasA{print.factor}{print}{print.factor}\n",
       "\\methaliasA{print.function}{print}{print.function}\n",
       "\\methaliasA{print.listof}{print}{print.listof}\n",
       "\\methaliasA{print.simple.list}{print}{print.simple.list}\n",
       "\\methaliasA{print.table}{print}{print.table}\n",
       "\\keyword{print}{print}\n",
       "%\n",
       "\\begin{Description}\\relax\n",
       "\\code{print} prints its argument and returns it \\emph{invisibly} (via\n",
       "\\code{\\LinkA{invisible}{invisible}(x)}).  It is a generic function which means that\n",
       "new printing methods can be easily added for new \\code{\\LinkA{class}{class}}es.\n",
       "\\end{Description}\n",
       "%\n",
       "\\begin{Usage}\n",
       "\\begin{verbatim}\n",
       "\n",
       "print(x, ...)\n",
       "\n",
       "## S3 method for class 'factor'\n",
       "print(x, quote = FALSE, max.levels = NULL,\n",
       "      width = getOption(\"width\"), ...)\n",
       "\n",
       "## S3 method for class 'table'\n",
       "print(x, digits = getOption(\"digits\"), quote = FALSE,\n",
       "      na.print = \"\", zero.print = \"0\",\n",
       "      right = is.numeric(x) || is.complex(x),\n",
       "      justify = \"none\", ...)\n",
       "\n",
       "## S3 method for class 'function'\n",
       "print(x, useSource = TRUE, ...)\n",
       "\\end{verbatim}\n",
       "\\end{Usage}\n",
       "%\n",
       "\\begin{Arguments}\n",
       "\\begin{ldescription}\n",
       "\\item[\\code{x}] an object used to select a method.\n",
       "\\item[\\code{...}] further arguments passed to or from other methods.\n",
       "\\item[\\code{quote}] logical, indicating whether or not strings should be\n",
       "printed with surrounding quotes.\n",
       "\\item[\\code{max.levels}] integer, indicating how many levels should be\n",
       "printed for a factor; if \\code{0}, no extra \"Levels\" line will be\n",
       "printed.  The default, \\code{NULL}, entails choosing \\code{max.levels}\n",
       "such that the levels print on one line of width \\code{width}.\n",
       "\\item[\\code{width}] only used when \\code{max.levels} is NULL, see above.\n",
       "\\item[\\code{digits}] minimal number of \\emph{significant} digits, see\n",
       "\\code{\\LinkA{print.default}{print.default}}.\n",
       "\\item[\\code{na.print}] character string (or \\code{NULL}) indicating\n",
       "\\code{\\LinkA{NA}{NA}} values in printed output, see\n",
       "\\code{\\LinkA{print.default}{print.default}}.\n",
       "\\item[\\code{zero.print}] character specifying how zeros (\\code{0}) should be\n",
       "printed; for sparse tables, using \\code{\".\"} can produce more\n",
       "readable results, similar to printing sparse matrices in \\Rhref{https://CRAN.R-project.org/package=Matrix}{\\pkg{Matrix}}.\n",
       "\\item[\\code{right}] logical, indicating whether or not strings should be\n",
       "right aligned.\n",
       "\\item[\\code{justify}] character indicating if strings should left- or\n",
       "right-justified or left alone, passed to \\code{\\LinkA{format}{format}}.\n",
       "\\item[\\code{useSource}] logical indicating if internally stored source\n",
       "should be used for printing when present, e.g., if\n",
       "\\code{\\LinkA{options}{options}(keep.source = TRUE)} has been in use.\n",
       "\\end{ldescription}\n",
       "\\end{Arguments}\n",
       "%\n",
       "\\begin{Details}\\relax\n",
       "The default method, \\code{\\LinkA{print.default}{print.default}} has its own help page.\n",
       "Use \\code{\\LinkA{methods}{methods}(\"print\")} to get all the methods for the\n",
       "\\code{print} generic.\n",
       "\n",
       "\\code{print.factor} allows some customization and is used for printing\n",
       "\\code{\\LinkA{ordered}{ordered}} factors as well.\n",
       "\n",
       "\\code{print.table} for printing \\code{\\LinkA{table}{table}}s allows other\n",
       "customization. As of R 3.0.0, it only prints a description in case of a table\n",
       "with 0-extents (this can happen if a classifier has no valid data).\n",
       "\n",
       "See \\code{\\LinkA{noquote}{noquote}} as an example of a class whose main\n",
       "purpose is a specific \\code{print} method.\n",
       "\\end{Details}\n",
       "%\n",
       "\\begin{References}\\relax\n",
       "Chambers, J. M. and Hastie, T. J. (1992)\n",
       "\\emph{Statistical Models in S.}\n",
       "Wadsworth \\& Brooks/Cole.\n",
       "\\end{References}\n",
       "%\n",
       "\\begin{SeeAlso}\\relax\n",
       "The default method \\code{\\LinkA{print.default}{print.default}}, and help for the\n",
       "methods above; further \\code{\\LinkA{options}{options}}, \\code{\\LinkA{noquote}{noquote}}.\n",
       "\n",
       "For more customizable (but cumbersome) printing, see\n",
       "\\code{\\LinkA{cat}{cat}}, \\code{\\LinkA{format}{format}} or also \\code{\\LinkA{write}{write}}.\n",
       "For a simple prototypical print method, see\n",
       "\\code{\\LinkA{.print.via.format}{.print.via.format}} in package \\pkg{tools}.\n",
       "\\end{SeeAlso}\n",
       "%\n",
       "\\begin{Examples}\n",
       "\\begin{ExampleCode}\n",
       "require(stats)\n",
       "\n",
       "ts(1:20)  #-- print is the \"Default function\" --> print.ts(.) is called\n",
       "for(i in 1:3) print(1:i)\n",
       "\n",
       "## Printing of factors\n",
       "attenu$station ## 117 levels -> 'max.levels' depending on width\n",
       "\n",
       "## ordered factors: levels  \"l1 < l2 < ..\"\n",
       "esoph$agegp[1:12]\n",
       "esoph$alcgp[1:12]\n",
       "\n",
       "## Printing of sparse (contingency) tables\n",
       "set.seed(521)\n",
       "t1 <- round(abs(rt(200, df = 1.8)))\n",
       "t2 <- round(abs(rt(200, df = 1.4)))\n",
       "table(t1, t2) # simple\n",
       "print(table(t1, t2), zero.print = \".\") # nicer to read\n",
       "\n",
       "## same for non-integer \"table\":\n",
       "T <- table(t2,t1)\n",
       "T <- T * (1+round(rlnorm(length(T)))/4)\n",
       "print(T, zero.print = \".\") # quite nicer,\n",
       "print.table(T[,2:8] * 1e9, digits=3, zero.print = \".\")\n",
       "## still slightly inferior to  Matrix::Matrix(T)  for larger T\n",
       "\n",
       "## Corner cases with empty extents:\n",
       "table(1, NA) # < table of extent 1 x 0 >\n",
       "\\end{ExampleCode}\n",
       "\\end{Examples}"
      ],
      "text/plain": [
       "print                   package:base                   R Documentation\n",
       "\n",
       "_\bP_\br_\bi_\bn_\bt _\bV_\ba_\bl_\bu_\be_\bs\n",
       "\n",
       "_\bD_\be_\bs_\bc_\br_\bi_\bp_\bt_\bi_\bo_\bn:\n",
       "\n",
       "     'print' prints its argument and returns it _invisibly_ (via\n",
       "     'invisible(x)').  It is a generic function which means that new\n",
       "     printing methods can be easily added for new 'class'es.\n",
       "\n",
       "_\bU_\bs_\ba_\bg_\be:\n",
       "\n",
       "     print(x, ...)\n",
       "     \n",
       "     ## S3 method for class 'factor'\n",
       "     print(x, quote = FALSE, max.levels = NULL,\n",
       "           width = getOption(\"width\"), ...)\n",
       "     \n",
       "     ## S3 method for class 'table'\n",
       "     print(x, digits = getOption(\"digits\"), quote = FALSE,\n",
       "           na.print = \"\", zero.print = \"0\",\n",
       "           right = is.numeric(x) || is.complex(x),\n",
       "           justify = \"none\", ...)\n",
       "     \n",
       "     ## S3 method for class 'function'\n",
       "     print(x, useSource = TRUE, ...)\n",
       "     \n",
       "_\bA_\br_\bg_\bu_\bm_\be_\bn_\bt_\bs:\n",
       "\n",
       "       x: an object used to select a method.\n",
       "\n",
       "     ...: further arguments passed to or from other methods.\n",
       "\n",
       "   quote: logical, indicating whether or not strings should be printed\n",
       "          with surrounding quotes.\n",
       "\n",
       "max.levels: integer, indicating how many levels should be printed for a\n",
       "          factor; if '0', no extra \"Levels\" line will be printed.  The\n",
       "          default, 'NULL', entails choosing 'max.levels' such that the\n",
       "          levels print on one line of width 'width'.\n",
       "\n",
       "   width: only used when 'max.levels' is NULL, see above.\n",
       "\n",
       "  digits: minimal number of _significant_ digits, see 'print.default'.\n",
       "\n",
       "na.print: character string (or 'NULL') indicating 'NA' values in\n",
       "          printed output, see 'print.default'.\n",
       "\n",
       "zero.print: character specifying how zeros ('0') should be printed; for\n",
       "          sparse tables, using '\".\"' can produce more readable results,\n",
       "          similar to printing sparse matrices in 'Matrix'.\n",
       "\n",
       "   right: logical, indicating whether or not strings should be right\n",
       "          aligned.\n",
       "\n",
       " justify: character indicating if strings should left- or\n",
       "          right-justified or left alone, passed to 'format'.\n",
       "\n",
       "useSource: logical indicating if internally stored source should be\n",
       "          used for printing when present, e.g., if 'options(keep.source\n",
       "          = TRUE)' has been in use.\n",
       "\n",
       "_\bD_\be_\bt_\ba_\bi_\bl_\bs:\n",
       "\n",
       "     The default method, 'print.default' has its own help page.  Use\n",
       "     'methods(\"print\")' to get all the methods for the 'print' generic.\n",
       "\n",
       "     'print.factor' allows some customization and is used for printing\n",
       "     'ordered' factors as well.\n",
       "\n",
       "     'print.table' for printing 'table's allows other customization. As\n",
       "     of R 3.0.0, it only prints a description in case of a table with\n",
       "     0-extents (this can happen if a classifier has no valid data).\n",
       "\n",
       "     See 'noquote' as an example of a class whose main purpose is a\n",
       "     specific 'print' method.\n",
       "\n",
       "_\bR_\be_\bf_\be_\br_\be_\bn_\bc_\be_\bs:\n",
       "\n",
       "     Chambers, J. M. and Hastie, T. J. (1992) _Statistical Models in\n",
       "     S._ Wadsworth & Brooks/Cole.\n",
       "\n",
       "_\bS_\be_\be _\bA_\bl_\bs_\bo:\n",
       "\n",
       "     The default method 'print.default', and help for the methods\n",
       "     above; further 'options', 'noquote'.\n",
       "\n",
       "     For more customizable (but cumbersome) printing, see 'cat',\n",
       "     'format' or also 'write'.  For a simple prototypical print method,\n",
       "     see '.print.via.format' in package 'tools'.\n",
       "\n",
       "_\bE_\bx_\ba_\bm_\bp_\bl_\be_\bs:\n",
       "\n",
       "     require(stats)\n",
       "     \n",
       "     ts(1:20)  #-- print is the \"Default function\" --> print.ts(.) is called\n",
       "     for(i in 1:3) print(1:i)\n",
       "     \n",
       "     ## Printing of factors\n",
       "     attenu$station ## 117 levels -> 'max.levels' depending on width\n",
       "     \n",
       "     ## ordered factors: levels  \"l1 < l2 < ..\"\n",
       "     esoph$agegp[1:12]\n",
       "     esoph$alcgp[1:12]\n",
       "     \n",
       "     ## Printing of sparse (contingency) tables\n",
       "     set.seed(521)\n",
       "     t1 <- round(abs(rt(200, df = 1.8)))\n",
       "     t2 <- round(abs(rt(200, df = 1.4)))\n",
       "     table(t1, t2) # simple\n",
       "     print(table(t1, t2), zero.print = \".\") # nicer to read\n",
       "     \n",
       "     ## same for non-integer \"table\":\n",
       "     T <- table(t2,t1)\n",
       "     T <- T * (1+round(rlnorm(length(T)))/4)\n",
       "     print(T, zero.print = \".\") # quite nicer,\n",
       "     print.table(T[,2:8] * 1e9, digits=3, zero.print = \".\")\n",
       "     ## still slightly inferior to  Matrix::Matrix(T)  for larger T\n",
       "     \n",
       "     ## Corner cases with empty extents:\n",
       "     table(1, NA) # < table of extent 1 x 0 >\n",
       "     "
      ]
     },
     "metadata": {},
     "output_type": "display_data"
    }
   ],
   "source": [
    "help(\"print\")"
   ]
  },
  {
   "cell_type": "markdown",
   "id": "255d5c51-0315-4135-86d1-2d18ee1227c1",
   "metadata": {},
   "source": [
    "If you need information of operator like +, -, * They are in inverse quotation marks. For example, for information of +, you need digit help(\\`+\\`) or ?\\` + \\` in command line. Other tool avaible is apropos() function. It need a string in quotation marks as argument and it shows you a list of all function wich cointain this string."
   ]
  },
  {
   "cell_type": "code",
   "execution_count": 6,
   "id": "8f12e543-d166-40f5-943b-5362432f1f6a",
   "metadata": {
    "collapsed": true,
    "jupyter": {
     "outputs_hidden": true
    },
    "tags": []
   },
   "outputs": [
    {
     "data": {
      "text/html": [
       "<ol class=list-inline>\n",
       "\t<li>'.checkMFClasses'</li>\n",
       "\t<li>'.classEnv'</li>\n",
       "\t<li>'.MFclass'</li>\n",
       "\t<li>'.OldClassesList'</li>\n",
       "\t<li>'.selectSuperClasses'</li>\n",
       "\t<li>'.valueClassTest'</li>\n",
       "\t<li>'all.equal.envRefClass'</li>\n",
       "\t<li>'assignClassDef'</li>\n",
       "\t<li>'class'</li>\n",
       "\t<li>'class&lt;-'</li>\n",
       "\t<li>'classesToAM'</li>\n",
       "\t<li>'classLabel'</li>\n",
       "\t<li>'classMetaName'</li>\n",
       "\t<li>'className'</li>\n",
       "\t<li>'completeClassDefinition'</li>\n",
       "\t<li>'completeSubclasses'</li>\n",
       "\t<li>'data.class'</li>\n",
       "\t<li>'findClass'</li>\n",
       "\t<li>'getAllSuperClasses'</li>\n",
       "\t<li>'getClass'</li>\n",
       "\t<li>'getClassDef'</li>\n",
       "\t<li>'getClasses'</li>\n",
       "\t<li>'getClassName'</li>\n",
       "\t<li>'getClassPackage'</li>\n",
       "\t<li>'getRefClass'</li>\n",
       "\t<li>'getSubclasses'</li>\n",
       "\t<li>'insertClassMethods'</li>\n",
       "\t<li>'isClass'</li>\n",
       "\t<li>'isClassDef'</li>\n",
       "\t<li>'isClassUnion'</li>\n",
       "\t<li>'isSealedClass'</li>\n",
       "\t<li>'isVirtualClass'</li>\n",
       "\t<li>'isXS3Class'</li>\n",
       "\t<li>'makeClassRepresentation'</li>\n",
       "\t<li>'makePrototypeFromClassDef'</li>\n",
       "\t<li>'multipleClasses'</li>\n",
       "\t<li>'namespaceImportClasses'</li>\n",
       "\t<li>'nclass.FD'</li>\n",
       "\t<li>'nclass.scott'</li>\n",
       "\t<li>'nclass.Sturges'</li>\n",
       "\t<li>'newClassRepresentation'</li>\n",
       "\t<li>'oldClass'</li>\n",
       "\t<li>'oldClass&lt;-'</li>\n",
       "\t<li>'promptClass'</li>\n",
       "\t<li>'removeClass'</li>\n",
       "\t<li>'resetClass'</li>\n",
       "\t<li>'S3Class'</li>\n",
       "\t<li>'S3Class&lt;-'</li>\n",
       "\t<li>'sealClass'</li>\n",
       "\t<li>'selectSuperClasses'</li>\n",
       "\t<li>'setClass'</li>\n",
       "\t<li>'setClassUnion'</li>\n",
       "\t<li>'setOldClass'</li>\n",
       "\t<li>'setRefClass'</li>\n",
       "\t<li>'showClass'</li>\n",
       "\t<li>'superClassDepth'</li>\n",
       "\t<li>'unclass'</li>\n",
       "</ol>\n"
      ],
      "text/latex": [
       "\\begin{enumerate*}\n",
       "\\item '.checkMFClasses'\n",
       "\\item '.classEnv'\n",
       "\\item '.MFclass'\n",
       "\\item '.OldClassesList'\n",
       "\\item '.selectSuperClasses'\n",
       "\\item '.valueClassTest'\n",
       "\\item 'all.equal.envRefClass'\n",
       "\\item 'assignClassDef'\n",
       "\\item 'class'\n",
       "\\item 'class<-'\n",
       "\\item 'classesToAM'\n",
       "\\item 'classLabel'\n",
       "\\item 'classMetaName'\n",
       "\\item 'className'\n",
       "\\item 'completeClassDefinition'\n",
       "\\item 'completeSubclasses'\n",
       "\\item 'data.class'\n",
       "\\item 'findClass'\n",
       "\\item 'getAllSuperClasses'\n",
       "\\item 'getClass'\n",
       "\\item 'getClassDef'\n",
       "\\item 'getClasses'\n",
       "\\item 'getClassName'\n",
       "\\item 'getClassPackage'\n",
       "\\item 'getRefClass'\n",
       "\\item 'getSubclasses'\n",
       "\\item 'insertClassMethods'\n",
       "\\item 'isClass'\n",
       "\\item 'isClassDef'\n",
       "\\item 'isClassUnion'\n",
       "\\item 'isSealedClass'\n",
       "\\item 'isVirtualClass'\n",
       "\\item 'isXS3Class'\n",
       "\\item 'makeClassRepresentation'\n",
       "\\item 'makePrototypeFromClassDef'\n",
       "\\item 'multipleClasses'\n",
       "\\item 'namespaceImportClasses'\n",
       "\\item 'nclass.FD'\n",
       "\\item 'nclass.scott'\n",
       "\\item 'nclass.Sturges'\n",
       "\\item 'newClassRepresentation'\n",
       "\\item 'oldClass'\n",
       "\\item 'oldClass<-'\n",
       "\\item 'promptClass'\n",
       "\\item 'removeClass'\n",
       "\\item 'resetClass'\n",
       "\\item 'S3Class'\n",
       "\\item 'S3Class<-'\n",
       "\\item 'sealClass'\n",
       "\\item 'selectSuperClasses'\n",
       "\\item 'setClass'\n",
       "\\item 'setClassUnion'\n",
       "\\item 'setOldClass'\n",
       "\\item 'setRefClass'\n",
       "\\item 'showClass'\n",
       "\\item 'superClassDepth'\n",
       "\\item 'unclass'\n",
       "\\end{enumerate*}\n"
      ],
      "text/markdown": [
       "1. '.checkMFClasses'\n",
       "2. '.classEnv'\n",
       "3. '.MFclass'\n",
       "4. '.OldClassesList'\n",
       "5. '.selectSuperClasses'\n",
       "6. '.valueClassTest'\n",
       "7. 'all.equal.envRefClass'\n",
       "8. 'assignClassDef'\n",
       "9. 'class'\n",
       "10. 'class&lt;-'\n",
       "11. 'classesToAM'\n",
       "12. 'classLabel'\n",
       "13. 'classMetaName'\n",
       "14. 'className'\n",
       "15. 'completeClassDefinition'\n",
       "16. 'completeSubclasses'\n",
       "17. 'data.class'\n",
       "18. 'findClass'\n",
       "19. 'getAllSuperClasses'\n",
       "20. 'getClass'\n",
       "21. 'getClassDef'\n",
       "22. 'getClasses'\n",
       "23. 'getClassName'\n",
       "24. 'getClassPackage'\n",
       "25. 'getRefClass'\n",
       "26. 'getSubclasses'\n",
       "27. 'insertClassMethods'\n",
       "28. 'isClass'\n",
       "29. 'isClassDef'\n",
       "30. 'isClassUnion'\n",
       "31. 'isSealedClass'\n",
       "32. 'isVirtualClass'\n",
       "33. 'isXS3Class'\n",
       "34. 'makeClassRepresentation'\n",
       "35. 'makePrototypeFromClassDef'\n",
       "36. 'multipleClasses'\n",
       "37. 'namespaceImportClasses'\n",
       "38. 'nclass.FD'\n",
       "39. 'nclass.scott'\n",
       "40. 'nclass.Sturges'\n",
       "41. 'newClassRepresentation'\n",
       "42. 'oldClass'\n",
       "43. 'oldClass&lt;-'\n",
       "44. 'promptClass'\n",
       "45. 'removeClass'\n",
       "46. 'resetClass'\n",
       "47. 'S3Class'\n",
       "48. 'S3Class&lt;-'\n",
       "49. 'sealClass'\n",
       "50. 'selectSuperClasses'\n",
       "51. 'setClass'\n",
       "52. 'setClassUnion'\n",
       "53. 'setOldClass'\n",
       "54. 'setRefClass'\n",
       "55. 'showClass'\n",
       "56. 'superClassDepth'\n",
       "57. 'unclass'\n",
       "\n",
       "\n"
      ],
      "text/plain": [
       " [1] \".checkMFClasses\"           \".classEnv\"                \n",
       " [3] \".MFclass\"                  \".OldClassesList\"          \n",
       " [5] \".selectSuperClasses\"       \".valueClassTest\"          \n",
       " [7] \"all.equal.envRefClass\"     \"assignClassDef\"           \n",
       " [9] \"class\"                     \"class<-\"                  \n",
       "[11] \"classesToAM\"               \"classLabel\"               \n",
       "[13] \"classMetaName\"             \"className\"                \n",
       "[15] \"completeClassDefinition\"   \"completeSubclasses\"       \n",
       "[17] \"data.class\"                \"findClass\"                \n",
       "[19] \"getAllSuperClasses\"        \"getClass\"                 \n",
       "[21] \"getClassDef\"               \"getClasses\"               \n",
       "[23] \"getClassName\"              \"getClassPackage\"          \n",
       "[25] \"getRefClass\"               \"getSubclasses\"            \n",
       "[27] \"insertClassMethods\"        \"isClass\"                  \n",
       "[29] \"isClassDef\"                \"isClassUnion\"             \n",
       "[31] \"isSealedClass\"             \"isVirtualClass\"           \n",
       "[33] \"isXS3Class\"                \"makeClassRepresentation\"  \n",
       "[35] \"makePrototypeFromClassDef\" \"multipleClasses\"          \n",
       "[37] \"namespaceImportClasses\"    \"nclass.FD\"                \n",
       "[39] \"nclass.scott\"              \"nclass.Sturges\"           \n",
       "[41] \"newClassRepresentation\"    \"oldClass\"                 \n",
       "[43] \"oldClass<-\"                \"promptClass\"              \n",
       "[45] \"removeClass\"               \"resetClass\"               \n",
       "[47] \"S3Class\"                   \"S3Class<-\"                \n",
       "[49] \"sealClass\"                 \"selectSuperClasses\"       \n",
       "[51] \"setClass\"                  \"setClassUnion\"            \n",
       "[53] \"setOldClass\"               \"setRefClass\"              \n",
       "[55] \"showClass\"                 \"superClassDepth\"          \n",
       "[57] \"unclass\"                  "
      ]
     },
     "metadata": {},
     "output_type": "display_data"
    }
   ],
   "source": [
    "apropos(\"class\")"
   ]
  },
  {
   "cell_type": "markdown",
   "id": "3d4eba5a-d80c-4d0e-88c0-3a81afefb739",
   "metadata": {},
   "source": [
    "You can use example() function for example(\"read.table\"). R can show information about a command, for example ??regression. It is equivalent a help.search(\"regression\"). Other form to get help is library function with help argument. Some package has vignette, it is a short documment with instructions to use their functions."
   ]
  },
  {
   "cell_type": "code",
   "execution_count": 10,
   "id": "92f34bc7-57a5-4f61-aea1-6c6e1e03c85e",
   "metadata": {
    "collapsed": true,
    "jupyter": {
     "outputs_hidden": true
    },
    "tags": []
   },
   "outputs": [
    {
     "data": {
      "text/plain": [
       "Documentation for package 'stats'\n",
       "\n",
       "\n",
       "\t\tInformation on package 'stats'\n",
       "\n",
       "Description:\n",
       "\n",
       "Package:            stats\n",
       "Version:            3.6.1\n",
       "Priority:           base\n",
       "Title:              The R Stats Package\n",
       "Author:             R Core Team and contributors worldwide\n",
       "Maintainer:         R Core Team <R-core@r-project.org>\n",
       "Description:        R statistical functions.\n",
       "License:            Part of R 3.6.1\n",
       "Imports:            utils, grDevices, graphics\n",
       "Suggests:           MASS, Matrix, SuppDists, methods, stats4\n",
       "NeedsCompilation:   yes\n",
       "Built:              R 3.6.1; x86_64-w64-mingw32; 2019-10-03 18:01:05\n",
       "                    UTC; windows\n",
       "\n",
       "Index:\n",
       "\n",
       ".checkMFClasses         Functions to Check the Type of Variables passed\n",
       "                        to Model Frames\n",
       "AIC                     Akaike's An Information Criterion\n",
       "ARMAacf                 Compute Theoretical ACF for an ARMA Process\n",
       "ARMAtoMA                Convert ARMA Process to Infinite MA Process\n",
       "Beta                    The Beta Distribution\n",
       "Binomial                The Binomial Distribution\n",
       "Box.test                Box-Pierce and Ljung-Box Tests\n",
       "C                       Sets Contrasts for a Factor\n",
       "Cauchy                  The Cauchy Distribution\n",
       "Chisquare               The (non-central) Chi-Squared Distribution\n",
       "Distributions           Distributions in the stats package\n",
       "Exponential             The Exponential Distribution\n",
       "FDist                   The F Distribution\n",
       "GammaDist               The Gamma Distribution\n",
       "Geometric               The Geometric Distribution\n",
       "HoltWinters             Holt-Winters Filtering\n",
       "Hypergeometric          The Hypergeometric Distribution\n",
       "IQR                     The Interquartile Range\n",
       "KalmanLike              Kalman Filtering\n",
       "Logistic                The Logistic Distribution\n",
       "Lognormal               The Log Normal Distribution\n",
       "Multinomial             The Multinomial Distribution\n",
       "NLSstAsymptotic         Fit the Asymptotic Regression Model\n",
       "NLSstClosestX           Inverse Interpolation\n",
       "NLSstLfAsymptote        Horizontal Asymptote on the Left Side\n",
       "NLSstRtAsymptote        Horizontal Asymptote on the Right Side\n",
       "NegBinomial             The Negative Binomial Distribution\n",
       "Normal                  The Normal Distribution\n",
       "PP.test                 Phillips-Perron Test for Unit Roots\n",
       "Poisson                 The Poisson Distribution\n",
       "SSD                     SSD Matrix and Estimated Variance Matrix in\n",
       "                        Multivariate Models\n",
       "SSasymp                 Self-Starting Nls Asymptotic Regression Model\n",
       "SSasympOff              Self-Starting Nls Asymptotic Regression Model\n",
       "                        with an Offset\n",
       "SSasympOrig             Self-Starting Nls Asymptotic Regression Model\n",
       "                        through the Origin\n",
       "SSbiexp                 Self-Starting Nls Biexponential model\n",
       "SSfol                   Self-Starting Nls First-order Compartment Model\n",
       "SSfpl                   Self-Starting Nls Four-Parameter Logistic Model\n",
       "SSgompertz              Self-Starting Nls Gompertz Growth Model\n",
       "SSlogis                 Self-Starting Nls Logistic Model\n",
       "SSmicmen                Self-Starting Nls Michaelis-Menten Model\n",
       "SSweibull               Self-Starting Nls Weibull Growth Curve Model\n",
       "SignRank                Distribution of the Wilcoxon Signed Rank\n",
       "                        Statistic\n",
       "StructTS                Fit Structural Time Series\n",
       "TDist                   The Student t Distribution\n",
       "Tukey                   The Studentized Range Distribution\n",
       "TukeyHSD                Compute Tukey Honest Significant Differences\n",
       "Uniform                 The Uniform Distribution\n",
       "Weibull                 The Weibull Distribution\n",
       "Wilcoxon                Distribution of the Wilcoxon Rank Sum Statistic\n",
       "acf                     Auto- and Cross- Covariance and -Correlation\n",
       "                        Function Estimation\n",
       "acf2AR                  Compute an AR Process Exactly Fitting an ACF\n",
       "add1                    Add or Drop All Possible Single Terms to a\n",
       "                        Model\n",
       "addmargins              Puts Arbitrary Margins on Multidimensional\n",
       "                        Tables or Arrays\n",
       "aggregate               Compute Summary Statistics of Data Subsets\n",
       "alias                   Find Aliases (Dependencies) in a Model\n",
       "anova                   Anova Tables\n",
       "anova.glm               Analysis of Deviance for Generalized Linear\n",
       "                        Model Fits\n",
       "anova.lm                ANOVA for Linear Model Fits\n",
       "anova.mlm               Comparisons between Multivariate Linear Models\n",
       "ansari.test             Ansari-Bradley Test\n",
       "aov                     Fit an Analysis of Variance Model\n",
       "approxfun               Interpolation Functions\n",
       "ar                      Fit Autoregressive Models to Time Series\n",
       "ar.ols                  Fit Autoregressive Models to Time Series by OLS\n",
       "arima                   ARIMA Modelling of Time Series\n",
       "arima.sim               Simulate from an ARIMA Model\n",
       "arima0                  ARIMA Modelling of Time Series - Preliminary\n",
       "                        Version\n",
       "as.hclust               Convert Objects to Class hclust\n",
       "asOneSidedFormula       Convert to One-Sided Formula\n",
       "ave                     Group Averages Over Level Combinations of\n",
       "                        Factors\n",
       "bartlett.test           Bartlett Test of Homogeneity of Variances\n",
       "binom.test              Exact Binomial Test\n",
       "biplot                  Biplot of Multivariate Data\n",
       "biplot.princomp         Biplot for Principal Components\n",
       "bw.nrd0                 Bandwidth Selectors for Kernel Density\n",
       "                        Estimation\n",
       "cancor                  Canonical Correlations\n",
       "case.names              Case and Variable Names of Fitted Models\n",
       "chisq.test              Pearson's Chi-squared Test for Count Data\n",
       "cmdscale                Classical (Metric) Multidimensional Scaling\n",
       "coef                    Extract Model Coefficients\n",
       "complete.cases          Find Complete Cases\n",
       "confint                 Confidence Intervals for Model Parameters\n",
       "constrOptim             Linearly Constrained Optimization\n",
       "contr.helmert           (Possibly Sparse) Contrast Matrices\n",
       "contrasts               Get and Set Contrast Matrices\n",
       "convolve                Convolution of Sequences via FFT\n",
       "cophenetic              Cophenetic Distances for a Hierarchical\n",
       "                        Clustering\n",
       "cor                     Correlation, Variance and Covariance (Matrices)\n",
       "cor.test                Test for Association/Correlation Between Paired\n",
       "                        Samples\n",
       "cov.wt                  Weighted Covariance Matrices\n",
       "cpgram                  Plot Cumulative Periodogram\n",
       "cutree                  Cut a Tree into Groups of Data\n",
       "decompose               Classical Seasonal Decomposition by Moving\n",
       "                        Averages\n",
       "delete.response         Modify Terms Objects\n",
       "dendrapply              Apply a Function to All Nodes of a Dendrogram\n",
       "dendrogram              General Tree Structures\n",
       "density                 Kernel Density Estimation\n",
       "deriv                   Symbolic and Algorithmic Derivatives of Simple\n",
       "                        Expressions\n",
       "deviance                Model Deviance\n",
       "df.residual             Residual Degrees-of-Freedom\n",
       "diff.ts                 Methods for Time Series Objects\n",
       "diffinv                 Discrete Integration: Inverse of Differencing\n",
       "dist                    Distance Matrix Computation\n",
       "dummy.coef              Extract Coefficients in Original Coding\n",
       "ecdf                    Empirical Cumulative Distribution Function\n",
       "eff.aovlist             Compute Efficiencies of Multistratum Analysis\n",
       "                        of Variance\n",
       "effects                 Effects from Fitted Model\n",
       "embed                   Embedding a Time Series\n",
       "expand.model.frame      Add new variables to a model frame\n",
       "extractAIC              Extract AIC from a Fitted Model\n",
       "factanal                Factor Analysis\n",
       "factor.scope            Compute Allowed Changes in Adding to or\n",
       "                        Dropping from a Formula\n",
       "family                  Family Objects for Models\n",
       "family.glm              Accessing Generalized Linear Model Fits\n",
       "family.lm               Accessing Linear Model Fits\n",
       "fft                     Fast Discrete Fourier Transform (FFT)\n",
       "filter                  Linear Filtering on a Time Series\n",
       "fisher.test             Fisher's Exact Test for Count Data\n",
       "fitted                  Extract Model Fitted Values\n",
       "fivenum                 Tukey Five-Number Summaries\n",
       "fligner.test            Fligner-Killeen Test of Homogeneity of\n",
       "                        Variances\n",
       "formula                 Model Formulae\n",
       "formula.nls             Extract Model Formula from nls Object\n",
       "friedman.test           Friedman Rank Sum Test\n",
       "ftable                  Flat Contingency Tables\n",
       "ftable.formula          Formula Notation for Flat Contingency Tables\n",
       "getInitial              Get Initial Parameter Estimates\n",
       "glm                     Fitting Generalized Linear Models\n",
       "glm.control             Auxiliary for Controlling GLM Fitting\n",
       "hclust                  Hierarchical Clustering\n",
       "heatmap                 Draw a Heat Map\n",
       "identify.hclust         Identify Clusters in a Dendrogram\n",
       "influence.measures      Regression Deletion Diagnostics\n",
       "integrate               Integration of One-Dimensional Functions\n",
       "interaction.plot        Two-way Interaction Plot\n",
       "is.empty.model          Test if a Model's Formula is Empty\n",
       "isoreg                  Isotonic / Monotone Regression\n",
       "kernapply               Apply Smoothing Kernel\n",
       "kernel                  Smoothing Kernel Objects\n",
       "kmeans                  K-Means Clustering\n",
       "kruskal.test            Kruskal-Wallis Rank Sum Test\n",
       "ks.test                 Kolmogorov-Smirnov Tests\n",
       "ksmooth                 Kernel Regression Smoother\n",
       "lag                     Lag a Time Series\n",
       "lag.plot                Time Series Lag Plots\n",
       "line                    Robust Line Fitting\n",
       "listof                  A Class for Lists of (Parts of) Model Fits\n",
       "lm                      Fitting Linear Models\n",
       "lm.fit                  Fitter Functions for Linear Models\n",
       "lm.influence            Regression Diagnostics\n",
       "loadings                Print Loadings in Factor Analysis\n",
       "loess                   Local Polynomial Regression Fitting\n",
       "loess.control           Set Parameters for Loess\n",
       "logLik                  Extract Log-Likelihood\n",
       "loglin                  Fitting Log-Linear Models\n",
       "lowess                  Scatter Plot Smoothing\n",
       "ls.diag                 Compute Diagnostics for 'lsfit' Regression\n",
       "                        Results\n",
       "ls.print                Print 'lsfit' Regression Results\n",
       "lsfit                   Find the Least Squares Fit\n",
       "mad                     Median Absolute Deviation\n",
       "mahalanobis             Mahalanobis Distance\n",
       "make.link               Create a Link for GLM Families\n",
       "makepredictcall         Utility Function for Safe Prediction\n",
       "manova                  Multivariate Analysis of Variance\n",
       "mantelhaen.test         Cochran-Mantel-Haenszel Chi-Squared Test for\n",
       "                        Count Data\n",
       "mauchly.test            Mauchly's Test of Sphericity\n",
       "mcnemar.test            McNemar's Chi-squared Test for Count Data\n",
       "median                  Median Value\n",
       "medpolish               Median Polish (Robust Twoway Decomposition) of\n",
       "                        a Matrix\n",
       "model.extract           Extract Components from a Model Frame\n",
       "model.frame             Extracting the Model Frame from a Formula or\n",
       "                        Fit\n",
       "model.matrix            Construct Design Matrices\n",
       "model.tables            Compute Tables of Results from an Aov Model Fit\n",
       "monthplot               Plot a Seasonal or other Subseries from a Time\n",
       "                        Series\n",
       "mood.test               Mood Two-Sample Test of Scale\n",
       "na.action               NA Action\n",
       "na.contiguous           Find Longest Contiguous Stretch of non-NAs\n",
       "na.fail                 Handle Missing Values in Objects\n",
       "naprint                 Adjust for Missing Values\n",
       "naresid                 Adjust for Missing Values\n",
       "nextn                   Find Highly Composite Numbers\n",
       "nlm                     Non-Linear Minimization\n",
       "nlminb                  Optimization using PORT routines\n",
       "nls                     Nonlinear Least Squares\n",
       "nls.control             Control the Iterations in nls\n",
       "nobs                    Extract the Number of Observations from a Fit.\n",
       "numericDeriv            Evaluate Derivatives Numerically\n",
       "offset                  Include an Offset in a Model Formula\n",
       "oneway.test             Test for Equal Means in a One-Way Layout\n",
       "optim                   General-purpose Optimization\n",
       "optimize                One Dimensional Optimization\n",
       "order.dendrogram        Ordering or Labels of the Leaves in a\n",
       "                        Dendrogram\n",
       "p.adjust                Adjust P-values for Multiple Comparisons\n",
       "pairwise.prop.test      Pairwise comparisons for proportions\n",
       "pairwise.t.test         Pairwise t tests\n",
       "pairwise.table          Tabulate p values for pairwise comparisons\n",
       "pairwise.wilcox.test    Pairwise Wilcoxon Rank Sum Tests\n",
       "plot.HoltWinters        Plot function for HoltWinters objects\n",
       "plot.acf                Plot Autocovariance and Autocorrelation\n",
       "                        Functions\n",
       "plot.density            Plot Method for Kernel Density Estimation\n",
       "plot.isoreg             Plot Method for isoreg Objects\n",
       "plot.lm                 Plot Diagnostics for an lm Object\n",
       "plot.ppr                Plot Ridge Functions for Projection Pursuit\n",
       "                        Regression Fit\n",
       "plot.profile.nls        Plot a profile.nls Object\n",
       "plot.spec               Plotting Spectral Densities\n",
       "plot.stepfun            Plot Step Functions\n",
       "plot.stl                Methods for STL Objects\n",
       "plot.ts                 Plotting Time-Series Objects\n",
       "poisson.test            Exact Poisson tests\n",
       "poly                    Compute Orthogonal Polynomials\n",
       "power                   Create a Power Link Object\n",
       "power.anova.test        Power Calculations for Balanced One-Way\n",
       "                        Analysis of Variance Tests\n",
       "power.prop.test         Power Calculations for Two-Sample Test for\n",
       "                        Proportions\n",
       "power.t.test            Power calculations for one and two sample t\n",
       "                        tests\n",
       "ppoints                 Ordinates for Probability Plotting\n",
       "ppr                     Projection Pursuit Regression\n",
       "prcomp                  Principal Components Analysis\n",
       "predict                 Model Predictions\n",
       "predict.Arima           Forecast from ARIMA fits\n",
       "predict.HoltWinters     Prediction Function for Fitted Holt-Winters\n",
       "                        Models\n",
       "predict.glm             Predict Method for GLM Fits\n",
       "predict.lm              Predict method for Linear Model Fits\n",
       "predict.loess           Predict Loess Curve or Surface\n",
       "predict.nls             Predicting from Nonlinear Least Squares Fits\n",
       "predict.smooth.spline   Predict from Smoothing Spline Fit\n",
       "preplot                 Pre-computations for a Plotting Object\n",
       "princomp                Principal Components Analysis\n",
       "print.power.htest       Print Methods for Hypothesis Tests and Power\n",
       "                        Calculation Objects\n",
       "print.ts                Printing and Formatting of Time-Series Objects\n",
       "printCoefmat            Print Coefficient Matrices\n",
       "profile                 Generic Function for Profiling Models\n",
       "profile.nls             Method for Profiling nls Objects\n",
       "proj                    Projections of Models\n",
       "prop.test               Test of Equal or Given Proportions\n",
       "prop.trend.test         Test for trend in proportions\n",
       "qbirthday               Probability of coincidences\n",
       "qqnorm                  Quantile-Quantile Plots\n",
       "quade.test              Quade Test\n",
       "quantile                Sample Quantiles\n",
       "r2dtable                Random 2-way Tables with Given Marginals\n",
       "rWishart                Random Wishart Distributed Matrices\n",
       "read.ftable             Manipulate Flat Contingency Tables\n",
       "rect.hclust             Draw Rectangles Around Hierarchical Clusters\n",
       "relevel                 Reorder Levels of Factor\n",
       "reorder.default         Reorder Levels of a Factor\n",
       "reorder.dendrogram      Reorder a Dendrogram\n",
       "replications            Number of Replications of Terms\n",
       "reshape                 Reshape Grouped Data\n",
       "residuals               Extract Model Residuals\n",
       "runmed                  Running Medians - Robust Scatter Plot Smoothing\n",
       "scatter.smooth          Scatter Plot with Smooth Curve Fitted by Loess\n",
       "screeplot               Screeplots\n",
       "sd                      Standard Deviation\n",
       "se.contrast             Standard Errors for Contrasts in Model Terms\n",
       "selfStart               Construct Self-starting Nonlinear Models\n",
       "setNames                Set the Names in an Object\n",
       "shapiro.test            Shapiro-Wilk Normality Test\n",
       "sigma                   Extract Residual Standard Deviation 'Sigma'\n",
       "simulate                Simulate Responses\n",
       "smooth                  Tukey's (Running Median) Smoothing\n",
       "smooth.spline           Fit a Smoothing Spline\n",
       "smoothEnds              End Points Smoothing (for Running Medians)\n",
       "sortedXyData            Create a 'sortedXyData' Object\n",
       "spec.ar                 Estimate Spectral Density of a Time Series from\n",
       "                        AR Fit\n",
       "spec.pgram              Estimate Spectral Density of a Time Series by a\n",
       "                        Smoothed Periodogram\n",
       "spec.taper              Taper a Time Series by a Cosine Bell\n",
       "spectrum                Spectral Density Estimation\n",
       "splinefun               Interpolating Splines\n",
       "start                   Encode the Terminal Times of Time Series\n",
       "stat.anova              GLM Anova Statistics\n",
       "stats-deprecated        Deprecated Functions in Package 'stats'\n",
       "stats-package           The R Stats Package\n",
       "step                    Choose a model by AIC in a Stepwise Algorithm\n",
       "stepfun                 Step Functions - Creation and Class\n",
       "stl                     Seasonal Decomposition of Time Series by Loess\n",
       "summary.aov             Summarize an Analysis of Variance Model\n",
       "summary.glm             Summarizing Generalized Linear Model Fits\n",
       "summary.lm              Summarizing Linear Model Fits\n",
       "summary.manova          Summary Method for Multivariate Analysis of\n",
       "                        Variance\n",
       "summary.nls             Summarizing Non-Linear Least-Squares Model Fits\n",
       "summary.princomp        Summary method for Principal Components\n",
       "                        Analysis\n",
       "supsmu                  Friedman's SuperSmoother\n",
       "symnum                  Symbolic Number Coding\n",
       "t.test                  Student's t-Test\n",
       "termplot                Plot Regression Terms\n",
       "terms                   Model Terms\n",
       "terms.formula           Construct a terms Object from a Formula\n",
       "terms.object            Description of Terms Objects\n",
       "time                    Sampling Times of Time Series\n",
       "toeplitz                Form Symmetric Toeplitz Matrix\n",
       "ts                      Time-Series Objects\n",
       "ts.plot                 Plot Multiple Time Series\n",
       "ts.union                Bind Two or More Time Series\n",
       "tsSmooth                Use Fixed-Interval Smoothing on Time Series\n",
       "tsdiag                  Diagnostic Plots for Time-Series Fits\n",
       "tsp                     Tsp Attribute of Time-Series-like Objects\n",
       "uniroot                 One Dimensional Root (Zero) Finding\n",
       "update                  Update and Re-fit a Model Call\n",
       "update.formula          Model Updating\n",
       "var.test                F Test to Compare Two Variances\n",
       "varimax                 Rotation Methods for Factor Analysis\n",
       "vcov                    Calculate Variance-Covariance Matrix for a\n",
       "                        Fitted Model Object\n",
       "weighted.mean           Weighted Arithmetic Mean\n",
       "weighted.residuals      Compute Weighted Residuals\n",
       "weights                 Extract Model Weights\n",
       "wilcox.test             Wilcoxon Rank Sum and Signed Rank Tests\n",
       "window                  Time Windows\n",
       "xtabs                   Cross Tabulation"
      ]
     },
     "metadata": {},
     "output_type": "display_data"
    }
   ],
   "source": [
    "library(help = \"stats\")"
   ]
  },
  {
   "cell_type": "code",
   "execution_count": 13,
   "id": "c62e9ff4-59cc-4cd1-a3cb-94d532ba2f52",
   "metadata": {
    "collapsed": true,
    "jupyter": {
     "outputs_hidden": true
    },
    "tags": []
   },
   "outputs": [
    {
     "data": {
      "text/html": [
       "<h3>Vignettes</h3>\n",
       "<table>\n",
       "<thead><tr><th scope=col>Package</th><th scope=col>Item</th><th scope=col>Title</th></tr></thead>\n",
       "<tbody>\n",
       "\t<tr><td>digest                                                   </td><td>sha1                                                     </td><td>sha1() versus digest() (source, html)                    </td></tr>\n",
       "\t<tr><td>grid                                                     </td><td>moveline                                                 </td><td>Demonstrating move-to and line-to (source, pdf)          </td></tr>\n",
       "\t<tr><td>grid                                                     </td><td>displaylist                                              </td><td>Display Lists in grid (source, pdf)                      </td></tr>\n",
       "\t<tr><td>grid                                                     </td><td>interactive                                              </td><td>Editing grid Graphics (source, pdf)                      </td></tr>\n",
       "\t<tr><td>grid                                                     </td><td>frame                                                    </td><td>Frames and packing grobs (source, pdf)                   </td></tr>\n",
       "\t<tr><td>grid                                                     </td><td>grid                                                     </td><td>Introduction to grid (source, pdf)                       </td></tr>\n",
       "\t<tr><td>grid                                                     </td><td>locndimn                                                 </td><td>Locations versus Dimensions (source, pdf)                </td></tr>\n",
       "\t<tr><td>grid                                                     </td><td>sharing                                                  </td><td>Modifying multiple grobs simultaneously (source, pdf)    </td></tr>\n",
       "\t<tr><td>grid                                                     </td><td>nonfinite                                                </td><td>Non-finite values (source, pdf)                          </td></tr>\n",
       "\t<tr><td>grid                                                     </td><td>saveload                                                 </td><td>Persistent representations (source, pdf)                 </td></tr>\n",
       "\t<tr><td>grid                                                     </td><td>rotated                                                  </td><td>Rotated Viewports (source, pdf)                          </td></tr>\n",
       "\t<tr><td>grid                                                     </td><td>grobs                                                    </td><td>Working with grid grobs (source, pdf)                    </td></tr>\n",
       "\t<tr><td>grid                                                     </td><td>viewports                                                </td><td>Working with viewports (source, pdf)                     </td></tr>\n",
       "\t<tr><td>grid                                                     </td><td>plotexample                                              </td><td>Writing grid Code (source, pdf)                          </td></tr>\n",
       "\t<tr><td>jsonlite                                                 </td><td>json-mapping                                             </td><td>A mapping between JSON data and R objects (source, pdf)  </td></tr>\n",
       "\t<tr><td>jsonlite                                                 </td><td>json-paging                                              </td><td>Combining pages of JSON data with jsonlite (source, html)</td></tr>\n",
       "\t<tr><td>jsonlite                                                 </td><td>json-apis                                                </td><td>Fetching JSON data from REST APIs (source, html)         </td></tr>\n",
       "\t<tr><td>jsonlite                                                 </td><td>json-aaquickstart                                        </td><td>Getting started with JSON and jsonlite (source, html)    </td></tr>\n",
       "\t<tr><td>jsonlite                                                 </td><td>json-opencpu                                             </td><td>Simple JSON RPC with OpenCPU (source, pdf)               </td></tr>\n",
       "\t<tr><td>parallel                                                 </td><td>parallel                                                 </td><td>Package 'parallel' (source, pdf)                         </td></tr>\n",
       "\t<tr><td>pbdZMQ                                                   </td><td>pbdZMQ-guide                                             </td><td>pbdZMQ-guide (source, pdf)                               </td></tr>\n",
       "\t<tr><td>Rcpp                                                     </td><td>Rcpp-attributes                                          </td><td>Rcpp-attributes (source, pdf)                            </td></tr>\n",
       "\t<tr><td>Rcpp                                                     </td><td>Rcpp-extending                                           </td><td>Rcpp-extending (source, pdf)                             </td></tr>\n",
       "\t<tr><td>Rcpp                                                     </td><td>Rcpp-FAQ                                                 </td><td>Rcpp-FAQ (source, pdf)                                   </td></tr>\n",
       "\t<tr><td>Rcpp                                                     </td><td>Rcpp-introduction                                        </td><td>Rcpp-introduction (source, pdf)                          </td></tr>\n",
       "\t<tr><td>Rcpp                                                     </td><td>Rcpp-jss-2011                                            </td><td>Rcpp-JSS-2011 (source, pdf)                              </td></tr>\n",
       "\t<tr><td>Rcpp                                                     </td><td>Rcpp-modules                                             </td><td>Rcpp-modules (source, pdf)                               </td></tr>\n",
       "\t<tr><td>Rcpp                                                     </td><td>Rcpp-package                                             </td><td>Rcpp-package (source, pdf)                               </td></tr>\n",
       "\t<tr><td>Rcpp                                                     </td><td>Rcpp-quickref                                            </td><td>Rcpp-quickref (source, pdf)                              </td></tr>\n",
       "\t<tr><td>Rcpp                                                     </td><td>Rcpp-sugar                                               </td><td>Rcpp-sugar (source, pdf)                                 </td></tr>\n",
       "\t<tr><td>utils                                                    </td><td>Sweave                                                   </td><td>Sweave User Manual (source, pdf)                         </td></tr>\n",
       "</tbody>\n",
       "</table>\n",
       "\n"
      ],
      "text/plain": [
       "Vignettes in package 'digest':\n",
       "\n",
       "sha1                    sha1() versus digest() (source, html)\n",
       "Vignettes in package 'grid':\n",
       "\n",
       "moveline                Demonstrating move-to and line-to (source, pdf)\n",
       "displaylist             Display Lists in grid (source, pdf)\n",
       "interactive             Editing grid Graphics (source, pdf)\n",
       "frame                   Frames and packing grobs (source, pdf)\n",
       "grid                    Introduction to grid (source, pdf)\n",
       "locndimn                Locations versus Dimensions (source, pdf)\n",
       "sharing                 Modifying multiple grobs simultaneously\n",
       "                        (source, pdf)\n",
       "nonfinite               Non-finite values (source, pdf)\n",
       "saveload                Persistent representations (source, pdf)\n",
       "rotated                 Rotated Viewports (source, pdf)\n",
       "grobs                   Working with grid grobs (source, pdf)\n",
       "viewports               Working with viewports (source, pdf)\n",
       "plotexample             Writing grid Code (source, pdf)\n",
       "Vignettes in package 'jsonlite':\n",
       "\n",
       "json-mapping            A mapping between JSON data and R objects\n",
       "                        (source, pdf)\n",
       "json-paging             Combining pages of JSON data with jsonlite\n",
       "                        (source, html)\n",
       "json-apis               Fetching JSON data from REST APIs (source,\n",
       "                        html)\n",
       "json-aaquickstart       Getting started with JSON and jsonlite (source,\n",
       "                        html)\n",
       "json-opencpu            Simple JSON RPC with OpenCPU (source, pdf)\n",
       "Vignettes in package 'parallel':\n",
       "\n",
       "parallel                Package 'parallel' (source, pdf)\n",
       "Vignettes in package 'pbdZMQ':\n",
       "\n",
       "pbdZMQ-guide            pbdZMQ-guide (source, pdf)\n",
       "Vignettes in package 'Rcpp':\n",
       "\n",
       "Rcpp-attributes         Rcpp-attributes (source, pdf)\n",
       "Rcpp-extending          Rcpp-extending (source, pdf)\n",
       "Rcpp-FAQ                Rcpp-FAQ (source, pdf)\n",
       "Rcpp-introduction       Rcpp-introduction (source, pdf)\n",
       "Rcpp-jss-2011           Rcpp-JSS-2011 (source, pdf)\n",
       "Rcpp-modules            Rcpp-modules (source, pdf)\n",
       "Rcpp-package            Rcpp-package (source, pdf)\n",
       "Rcpp-quickref           Rcpp-quickref (source, pdf)\n",
       "Rcpp-sugar              Rcpp-sugar (source, pdf)\n",
       "Vignettes in package 'utils':\n",
       "\n",
       "Sweave                  Sweave User Manual (source, pdf)"
      ]
     },
     "metadata": {},
     "output_type": "display_data"
    }
   ],
   "source": [
    "vignette()"
   ]
  },
  {
   "cell_type": "markdown",
   "id": "1e3a7207-fca7-4030-8fc8-1636dba1c8a2",
   "metadata": {},
   "source": [
    "## Types of data and basical opetations\n",
    "In this section we learning about the types of data and different operations in R language. When you introduce an expression in command line, R resolves it and show you the reuslt if it is possible. R can make mathematical and logical operations."
   ]
  },
  {
   "cell_type": "code",
   "execution_count": 35,
   "id": "1da3bf32-83a4-44f3-a080-a4a8a7018465",
   "metadata": {},
   "outputs": [
    {
     "name": "stdout",
     "output_type": "stream",
     "text": [
      "[1] 10\n",
      "[1] 15\n",
      "[1] -12\n",
      "[1]  561 1105 1729 2465 2821\n",
      "  [1]   1   2   3   4   5   6   7   8   9  10  11  12  13  14  15  16  17  18\n",
      " [19]  19  20  21  22  23  24  25  26  27  28  29  30  31  32  33  34  35  36\n",
      " [37]  37  38  39  40  41  42  43  44  45  46  47  48  49  50  51  52  53  54\n",
      " [55]  55  56  57  58  59  60  61  62  63  64  65  66  67  68  69  70  71  72\n",
      " [73]  73  74  75  76  77  78  79  80  81  82  83  84  85  86  87  88  89  90\n",
      " [91]  91  92  93  94  95  96  97  98  99 100\n",
      "[1] 0.1 1.2 2.3 3.4\n",
      "[1] 0 0 2 2 4 4 6 6\n"
     ]
    },
    {
     "data": {
      "text/html": [
       "<ol class=list-inline>\n",
       "\t<li>'colors'</li>\n",
       "\t<li>'my_variable'</li>\n",
       "\t<li>'my_variable_2'</li>\n",
       "\t<li>'y'</li>\n",
       "</ol>\n"
      ],
      "text/latex": [
       "\\begin{enumerate*}\n",
       "\\item 'colors'\n",
       "\\item 'my\\_variable'\n",
       "\\item 'my\\_variable\\_2'\n",
       "\\item 'y'\n",
       "\\end{enumerate*}\n"
      ],
      "text/markdown": [
       "1. 'colors'\n",
       "2. 'my_variable'\n",
       "3. 'my_variable_2'\n",
       "4. 'y'\n",
       "\n",
       "\n"
      ],
      "text/plain": [
       "[1] \"colors\"        \"my_variable\"   \"my_variable_2\" \"y\"            "
      ]
     },
     "metadata": {},
     "output_type": "display_data"
    },
    {
     "name": "stdout",
     "output_type": "stream",
     "text": [
      "[1] \"Hello Word!\"\n",
      "[1] \"red\"   \"blue\"  \"green\" \"blue\"  \"red\"  \n",
      "[1] \"numeric\"\n",
      "[1] \"complex\"\n",
      "[1] \"logical\"\n",
      "[1] FALSE\n",
      "[1] TRUE\n",
      "[1] -12  NA  NA\n",
      "[1] Inf\n",
      "[1] NaN\n"
     ]
    }
   ],
   "source": [
    "print(3+7) # You can do mathematical operations\n",
    "my_variable <- (180 / 6) - 15 # The <- symbol is used to asign value to variable\n",
    "print(my_variable)\n",
    "(180 / 60) - 15 -> my_variable_2 # Ypu can assign from left to right\n",
    "print(my_variable_2) # Note that, when we print the answer has [1] it is because the answer is a vector\n",
    "y <- c(561, 1105, 1729, 2465, 2821) # c instruction is to create a vector with many values\n",
    "print(y)\n",
    "print(1:100) # You can make vector which use more than one line, \":\" symbol is usefull to do it\n",
    "print(c(1.1, 2.2, 3.3, 4.4) - c(1, 1, 1, 1)) # The operation with vectors are element by element \n",
    "print(c(1, 2, 3, 4, 5, 6, 7, 8) - c(1, 2)) # If the vectors have different length, the smallest will be repeat necesary time\n",
    "ls() # ls function list all variables in memory\n",
    "print(\"Hello Word!\")\n",
    "colors <- c(\"red\", \"blue\", \"green\", \"blue\", \"red\")\n",
    "print(colors) # Vector with string values\n",
    "print(class(3)) # Numeric class\n",
    "print(class(5+7i)) # Complex class\n",
    "print(class(T)) # Logical class\n",
    "print(T&F) # Logical operations\n",
    "print(my_variable == 15) # Logical comparations\n",
    "length(my_variable_2) <- 3\n",
    "print(my_variable_2) # NA is special value which means Not Avaible\n",
    "print(2^1024) # INF is special value for too high values\n",
    "print(0/0) # NaN value which means Not is a Number"
   ]
  },
  {
   "cell_type": "markdown",
   "id": "8c3881dd-bf12-4076-84fe-db8a1e3a4ad6",
   "metadata": {},
   "source": [
    "## Date manipulation\n",
    "R has some classes to manipulate date: Date, POSIXct, POSIXlt. For example, to get the date of today whe can use Sys.Date()"
   ]
  },
  {
   "cell_type": "code",
   "execution_count": 42,
   "id": "3a9f3e70-42c1-4f49-bf84-766bfd204cd5",
   "metadata": {},
   "outputs": [
    {
     "name": "stdout",
     "output_type": "stream",
     "text": [
      "[1] \"2022-05-22\"\n",
      " [1] 0 0 0 0 0 0 0 0 0 0\n",
      " [1] \"\" \"\" \"\" \"\" \"\" \"\" \"\" \"\" \"\" \"\"\n",
      " [1] FALSE FALSE FALSE FALSE FALSE FALSE FALSE FALSE FALSE FALSE\n",
      "[[1]]\n",
      "[1] 0\n",
      "\n",
      "[[2]]\n",
      "[1] \"Hello\"\n",
      "\n",
      "[[3]]\n",
      "[1] TRUE\n",
      "\n",
      "[1]  1+0i 19+0i  1+3i\n",
      "[1] FALSE FALSE FALSE FALSE FALSE\n"
     ]
    }
   ],
   "source": [
    "print(Sys.Date()) # Print date of today\n",
    "print(vector(\"numeric\", length = 10)) # vector function is usefull. It need type and length\n",
    "print(vector(\"character\", length = 10)) # vector with character values\n",
    "print(vector(\"logical\", length = 10)) # vector with logical values\n",
    "# Vector can only have the same type of data. List can have different values of different data\n",
    "print(list(0, \"Hello\", T))\n",
    "print(c(T, 19, 1+3i)) # R convert al values to the same type.\n",
    "c <- vector(\"numeric\", length = 5)\n",
    "print(as.logical(c)) # This convert all values to logical type, you can use as.numeric, as.character, as.integer"
   ]
  },
  {
   "cell_type": "markdown",
   "id": "956e1ee0-0cd3-4812-a13c-7e49295c9da5",
   "metadata": {},
   "source": [
    "## Matrix\n",
    "Matrix are like vector in two dimensions. To create it we can use matrix function (data and dimension), rbind (create with vector as rows), cbind (create with vector as columns) and as.matrix() (to cast to matrix). \n",
    "Factores are otthe special type of categorical data. \n",
    "Dataframe are other special type of data, with two dimension of labeled data. Each column can have different type of data."
   ]
  },
  {
   "cell_type": "code",
   "execution_count": 51,
   "id": "3523021e-9822-4598-b22f-cc9a95d0eddc",
   "metadata": {},
   "outputs": [
    {
     "name": "stdout",
     "output_type": "stream",
     "text": [
      "     [,1] [,2] [,3]\n",
      "[1,]    1    5    9\n",
      "[2,]    2    6   10\n",
      "[3,]    3    7   11\n",
      "[4,]    4    8   12\n",
      "  [,1] [,2] [,3] [,4] [,5]\n",
      "y  561 1105 1729 2465 2821\n",
      "y  561 1105 1729 2465 2821\n",
      "        y    y\n",
      "[1,]  561  561\n",
      "[2,] 1105 1105\n",
      "[3,] 1729 1729\n",
      "[4,] 2465 2465\n",
      "[5,] 2821 2821\n",
      "[1] red   blue  green blue  red  \n",
      "Levels: blue green red\n",
      "  keys color\n",
      "1  561   red\n",
      "2 1105  blue\n",
      "3 1729 green\n",
      "4 2465  blue\n",
      "5 2821   red\n",
      "     keys color\n",
      "[1,]  561     3\n",
      "[2,] 1105     1\n",
      "[3,] 1729     2\n",
      "[4,] 2465     1\n",
      "[5,] 2821     3\n"
     ]
    }
   ],
   "source": [
    "print(matrix(data = 1:12, nrow = 4, ncol = 3)) # Create matrix with matrix function\n",
    "print(rbind(y, y)) # Create matrix with rbind function\n",
    "print(cbind(y,y)) # Create matrix with cbind function\n",
    "print(factor(colors)) # Factors presents without quation marks an leves are show explicitly\n",
    "print(data.frame(keys = y, color = colors)) # You can use read.table or read.csv functions\n",
    "print(data.matrix(data.frame(keys = y, color = colors))) # You can use data.matrix to make dataframe in matrix"
   ]
  },
  {
   "cell_type": "markdown",
   "id": "36ab13ff-f89f-4050-a260-120a9db69190",
   "metadata": {},
   "source": [
    "## Substructures\n",
    "In this section, we will learn how we can access to data structure in R. [] is used to access values in vector or matrix."
   ]
  },
  {
   "cell_type": "code",
   "execution_count": 78,
   "id": "15b0baca-7f13-4b83-a18b-c8f919050d41",
   "metadata": {},
   "outputs": [
    {
     "name": "stdout",
     "output_type": "stream",
     "text": [
      " [1] 11 12 13 14 15 16 17 18 19 20 21 22 23 24 25 26 27 28 29 30\n",
      "[1] 11\n",
      "[1] 13 14 15 16 17 18\n",
      "[1] 14 16 23\n",
      "[1] 16 23 14\n",
      " [1] 11 12 13 14 15 16 17 18 26 27 28 29 30\n",
      " [1] 11 13 15 17 19 21 23 25 27 29\n",
      "[1] 13 16 19 22 25 28\n",
      " [1] 21 22 23 24 25 26 27 28 29 30\n",
      ", , 1\n",
      "\n",
      "     [,1] [,2] [,3]\n",
      "[1,]    1    4    7\n",
      "[2,]    2    5    8\n",
      "[3,]    3    6    9\n",
      "\n",
      ", , 2\n",
      "\n",
      "     [,1] [,2] [,3]\n",
      "[1,]   10   13   16\n",
      "[2,]   11   14   17\n",
      "[3,]   12   15   18\n",
      "\n",
      "[1] 5\n",
      "     [,1] [,2]\n",
      "[1,]    1    4\n",
      "[2,]    2    5\n",
      "     [,1] [,2] [,3]\n",
      "[1,]    1    4    7\n",
      "[2,]    2    5    8\n",
      "[3,]    3    6    9\n",
      "[1] 1 4 7\n",
      "     [,1] [,2] [,3]\n",
      "[1,]    1    4    7\n",
      "[2,]    3    6    9\n"
     ]
    }
   ],
   "source": [
    "my_vector <- 11:30\n",
    "print(my_vector)\n",
    "print(my_vector[1]) # Access to first element in vector\n",
    "print(my_vector[3:8]) # Access elemento from 3 to 8\n",
    "print(my_vector[c(4, 6, 13)]) # We can access with indexes as vector\n",
    "print(my_vector[c(6, 13, 4)]) # The indexes are not necessary in order\n",
    "print(my_vector[-9:-15]) # You can use - symbol to exlude elements in the selection\n",
    "print(my_vector[rep(c(T, F), 10)]) # You can use boolean vector to access values\n",
    "print(my_vector[c(F, F, T)]) # For logical vector, it will repeat if the length are not suficient\n",
    "print(my_vector[my_vector > 20]) # You can use bodcast to get elements\n",
    "my_array <- array(1:18,dim=c(3,3,2)) # You can create a multidimensional array\n",
    "print(my_array)\n",
    "print(my_array[2, 2, 1]) # You can access with each dimension separate by comma\n",
    "print(my_array[1:2, 1:2, 1]) # You can access multidimensional\n",
    "my_matrix <- array(1:9, dim = c(3,3)) # Create a matrix as array with two dimensions\n",
    "print(my_matrix)\n",
    "print(my_matrix[1,]) # Omit values it mean all columns\n",
    "print(my_matrix[c(1,3),]) # You can use different values in vector "
   ]
  },
  {
   "cell_type": "code",
   "execution_count": 91,
   "id": "ff08bb77-eb06-443c-854e-44921492b9d7",
   "metadata": {},
   "outputs": [
    {
     "name": "stdout",
     "output_type": "stream",
     "text": [
      "$color\n",
      "[1] \"red\"\n",
      "\n",
      "$tires\n",
      "[1] 4\n",
      "\n",
      "$mark\n",
      "[1] \"Renault\"\n",
      "\n",
      "$cylinders\n",
      "[1] 4\n",
      "\n",
      "[1] \"red\"\n",
      "$tires\n",
      "[1] 4\n",
      "\n",
      "$cylinders\n",
      "[1] 4\n",
      "\n",
      "[1] \"Renault\"\n",
      "[1] \"Renault\"\n",
      "   speed dist\n",
      "1      4    2\n",
      "2      4   10\n",
      "3      7    4\n",
      "4      7   22\n",
      "5      8   16\n",
      "6      9   10\n",
      "7     10   18\n",
      "8     10   26\n",
      "9     10   34\n",
      "10    11   17\n",
      "11    11   28\n",
      "12    12   14\n",
      "13    12   20\n",
      "14    12   24\n",
      "15    12   28\n",
      "16    13   26\n",
      "17    13   34\n",
      "18    13   34\n",
      "19    13   46\n",
      "20    14   26\n",
      "21    14   36\n",
      "22    14   60\n",
      "23    14   80\n",
      "24    15   20\n",
      "25    15   26\n",
      "26    15   54\n",
      "27    16   32\n",
      "28    16   40\n",
      "29    17   32\n",
      "30    17   40\n",
      "31    17   50\n",
      "32    18   42\n",
      "33    18   56\n",
      "34    18   76\n",
      "35    18   84\n",
      "36    19   36\n",
      "37    19   46\n",
      "38    19   68\n",
      "39    20   32\n",
      "40    20   48\n",
      "41    20   52\n",
      "42    20   56\n",
      "43    20   64\n",
      "44    22   66\n",
      "45    23   54\n",
      "46    24   70\n",
      "47    24   92\n",
      "48    24   93\n",
      "49    24  120\n",
      "50    25   85\n",
      " [1]  4  4  7  7  8  9 10 10 10 11 11 12 12 12 12 13 13 13 13 14 14 14 14 15 15\n",
      "[26] 15 16 16 17 17 17 18 18 18 18 19 19 19 20 20 20 20 20 22 23 24 24 24 24 25\n",
      "[1] 24\n"
     ]
    }
   ],
   "source": [
    "# In list, each element have names\n",
    "car <- list(color = \"red\", tires = 4, mark = \"Renault\", cylinders = 4)\n",
    "print(car)\n",
    "print(car$color) # You can use $ symbol to gt values with number\n",
    "print(car[c(\"tires\", \"cylinders\")]) #You can use names in vector\n",
    "print(car[[\"mark\"]]) # You can use name in doble []\n",
    "print(car[[\"ma\", exact = F]]) # You can use incomplete name\n",
    "print(cars)\n",
    "print(cars$speed)\n",
    "print(cars$speed[cars$dist > 100]) # Print values with broadcast"
   ]
  },
  {
   "cell_type": "markdown",
   "id": "772d27d5-9579-449b-a741-95ae5d3e5221",
   "metadata": {},
   "source": [
    "## Write and read data\n",
    "In this section we will learn about how we can load data and save it. In R we can add several information of others programs, you can only need url or path of file. In general, the most common format is csv. The principal function are read.table(), read.csv(), read.delim(). read.csv2() or read.delim2() if in your region use commas to separte decimals."
   ]
  },
  {
   "cell_type": "code",
   "execution_count": 11,
   "id": "7893bf3c-6012-470f-92b0-6c6e91ffa40e",
   "metadata": {},
   "outputs": [],
   "source": [
    "data <- read.table(\"data/inmigintnalpry.csv\", header=TRUE, sep=\",\", fileEncoding = \"latin1\") # Read csv file\n",
    "data2 <- read.table(\"data/inmigintnalpry.csv\", header=TRUE, sep=\",\") # fileEnconding in latin1 is usefull to iondentify correctly words like año\n",
    "first100 <- read.table(\"data/inmigintnalpry.csv\", header=TRUE, sep=\",\", fileEncoding = \"latin1\", nrow = 100)\n",
    "# You can read only 100 first rows\n",
    "classes <- sapply(first100, class) # Sapply apply class function each column in first100"
   ]
  },
  {
   "cell_type": "code",
   "execution_count": 15,
   "id": "637e5653-45ee-4c98-a80f-6e2451282066",
   "metadata": {},
   "outputs": [],
   "source": [
    "data <- read.table(\"data/inmigintnalpry.csv\", header=TRUE, sep=\",\", fileEncoding = \"latin1\", colClasses=classes)\n",
    "#With this we can read more efficient"
   ]
  },
  {
   "cell_type": "code",
   "execution_count": 17,
   "id": "6bcef077-a128-4cb7-bdbc-c6bab82fffba",
   "metadata": {},
   "outputs": [],
   "source": [
    "save(data, classes, file=\"data/datos_inmigrates.RData\") # Save variables"
   ]
  },
  {
   "cell_type": "code",
   "execution_count": 19,
   "id": "115f805c-d872-497e-a559-9e772330db3f",
   "metadata": {},
   "outputs": [],
   "source": [
    "rm(data,classes) # Remove varibles of workspace"
   ]
  },
  {
   "cell_type": "code",
   "execution_count": 20,
   "id": "f4483160-d4d7-45c6-bed7-cecbe134a9ec",
   "metadata": {},
   "outputs": [
    {
     "data": {
      "text/html": [
       "<ol class=list-inline>\n",
       "\t<li>'data2'</li>\n",
       "\t<li>'datas2'</li>\n",
       "\t<li>'datos2'</li>\n",
       "\t<li>'first100'</li>\n",
       "</ol>\n"
      ],
      "text/latex": [
       "\\begin{enumerate*}\n",
       "\\item 'data2'\n",
       "\\item 'datas2'\n",
       "\\item 'datos2'\n",
       "\\item 'first100'\n",
       "\\end{enumerate*}\n"
      ],
      "text/markdown": [
       "1. 'data2'\n",
       "2. 'datas2'\n",
       "3. 'datos2'\n",
       "4. 'first100'\n",
       "\n",
       "\n"
      ],
      "text/plain": [
       "[1] \"data2\"    \"datas2\"   \"datos2\"   \"first100\""
      ]
     },
     "metadata": {},
     "output_type": "display_data"
    }
   ],
   "source": [
    "ls() # We can check if its works with ls() command"
   ]
  },
  {
   "cell_type": "code",
   "execution_count": 21,
   "id": "f37a478d-6d6d-42f3-afaa-1132c7e006e1",
   "metadata": {},
   "outputs": [
    {
     "data": {
      "text/html": [
       "<ol class=list-inline>\n",
       "\t<li>'classes'</li>\n",
       "\t<li>'data'</li>\n",
       "\t<li>'data2'</li>\n",
       "\t<li>'datas2'</li>\n",
       "\t<li>'datos2'</li>\n",
       "\t<li>'first100'</li>\n",
       "</ol>\n"
      ],
      "text/latex": [
       "\\begin{enumerate*}\n",
       "\\item 'classes'\n",
       "\\item 'data'\n",
       "\\item 'data2'\n",
       "\\item 'datas2'\n",
       "\\item 'datos2'\n",
       "\\item 'first100'\n",
       "\\end{enumerate*}\n"
      ],
      "text/markdown": [
       "1. 'classes'\n",
       "2. 'data'\n",
       "3. 'data2'\n",
       "4. 'datas2'\n",
       "5. 'datos2'\n",
       "6. 'first100'\n",
       "\n",
       "\n"
      ],
      "text/plain": [
       "[1] \"classes\"  \"data\"     \"data2\"    \"datas2\"   \"datos2\"   \"first100\""
      ]
     },
     "metadata": {},
     "output_type": "display_data"
    }
   ],
   "source": [
    "load(\"data/datos_inmigrates.RData\") # You can load that variables and check it\n",
    "ls() # All data in R can access in different opearating sistem\n",
    "# save.image() is for save all variables in workspace"
   ]
  },
  {
   "cell_type": "code",
   "execution_count": 22,
   "id": "43fd32a4-bc65-4f67-98a0-50bba9d3eb22",
   "metadata": {},
   "outputs": [],
   "source": [
    "write.csv(data, \"data/export_data.csv\") # Write data in csv file"
   ]
  },
  {
   "cell_type": "markdown",
   "id": "37eff957-5907-4f85-8af3-304f02a350bf",
   "metadata": {},
   "source": [
    "## Functions\n",
    "In this section I show you sereval forms to write functions in R."
   ]
  },
  {
   "cell_type": "code",
   "execution_count": 26,
   "id": "1b92d9fb-622f-41f2-a0cc-bdbb0ff9aac7",
   "metadata": {},
   "outputs": [
    {
     "data": {
      "text/html": [
       "7"
      ],
      "text/latex": [
       "7"
      ],
      "text/markdown": [
       "7"
      ],
      "text/plain": [
       "[1] 7"
      ]
     },
     "metadata": {},
     "output_type": "display_data"
    }
   ],
   "source": [
    "add <- function(a, b){ # Write functions with arguments\n",
    "    a + b # FUnction return last value evaluated\n",
    "}\n",
    "add(3, 4)"
   ]
  },
  {
   "cell_type": "code",
   "execution_count": 28,
   "id": "237d7026-08b0-4e52-8180-d6973afb1439",
   "metadata": {},
   "outputs": [
    {
     "data": {
      "text/html": [
       "<pre class=language-r><code>function (a, b) \n",
       "{\n",
       "<span style=white-space:pre-wrap>    a + b</span>\n",
       "}</code></pre>"
      ],
      "text/latex": [
       "\\begin{minted}{r}\n",
       "function (a, b) \n",
       "\\{\n",
       "    a + b\n",
       "\\}\n",
       "\\end{minted}"
      ],
      "text/markdown": [
       "```r\n",
       "function (a, b) \n",
       "{\n",
       "    a + b\n",
       "}\n",
       "```"
      ],
      "text/plain": [
       "function(a, b){\n",
       "    a + b\n",
       "}"
      ]
     },
     "metadata": {},
     "output_type": "display_data"
    }
   ],
   "source": [
    "add # You can see the code of function only writing its name. "
   ]
  },
  {
   "cell_type": "code",
   "execution_count": 48,
   "id": "9f6306a0-b525-4c50-8c37-dea2aa863dec",
   "metadata": {},
   "outputs": [
    {
     "name": "stdout",
     "output_type": "stream",
     "text": [
      "[1] 4\n",
      "[1] 8\n",
      "[1] 8\n",
      "function (a = 0, b = 0, ...) \n",
      "NULL\n",
      "$a\n",
      "[1] 0\n",
      "\n",
      "$b\n",
      "[1] 0\n",
      "\n",
      "$...\n",
      "\n",
      "\n",
      "[1] 36\n",
      "[1] 64\n"
     ]
    }
   ],
   "source": [
    "mul <- function(a, y = 1){ # You can assign a previus value in declaration\n",
    "    a * y\n",
    "}\n",
    "print(mul(4))\n",
    "print(mul(4, 2))\n",
    "add_mul <- function(a = 0, b = 0, ...){ # ... is usefull to design more arguments\n",
    "    a + b + ...\n",
    "}\n",
    "print(add_mul(1,2,5))\n",
    "print(args(add_mul)) # args is function to see the args of function\n",
    "print(formals(add_mul)) # it's more formal to see arguments \n",
    "fun_cuad <- function(a, b, fun){ # You can pass function as argument\n",
    "    (fun(a, b))^2\n",
    "}\n",
    "print(fun_cuad(2, 4, add)) # Add function to square\n",
    "print(fun_cuad(2, 4, mul)) # mul function to square"
   ]
  },
  {
   "cell_type": "markdown",
   "id": "1285fb0d-ea63-486a-9050-45fb75350da0",
   "metadata": {},
   "source": [
    "## Apply function\n",
    "In this section you will be learn about apply(). The function apply() needs 3 arguments, vector or matrix X, margin 1: if the function apply to rows and 2: if the funtion apply to columns. And fun, that is the function to apply."
   ]
  },
  {
   "cell_type": "code",
   "execution_count": 57,
   "id": "2296f521-317f-4c01-abb2-43ccfc5df595",
   "metadata": {},
   "outputs": [
    {
     "name": "stdout",
     "output_type": "stream",
     "text": [
      "[1]  1  5  9 13\n",
      "[[1]]\n",
      "[1] \"INTRODUCTION\"\n",
      "\n",
      "[[2]]\n",
      "[1] \"TO\"\n",
      "\n",
      "[[3]]\n",
      "[1] \"THE\"\n",
      "\n",
      "[[4]]\n",
      "[1] \"STADISTICAL\"\n",
      "\n",
      "[[5]]\n",
      "[1] \"PROGRAMMATION\"\n",
      "\n",
      "[[6]]\n",
      "[1] \"WITH\"\n",
      "\n",
      "[[7]]\n",
      "[1] \"R\"\n",
      "\n",
      "$Anio.mes\n",
      "[1] \"integer\"\n",
      "\n",
      "$Codigo.IATA\n",
      "[1] \"factor\"\n",
      "\n",
      "$Descripcion\n",
      "[1] \"factor\"\n",
      "\n",
      "$Estado\n",
      "[1] \"factor\"\n",
      "\n",
      "$Pasajeros.nacionales\n",
      "[1] \"integer\"\n",
      "\n",
      "$Pasajeros.internacionales\n",
      "[1] \"integer\"\n",
      "\n",
      " [1] Ciudad Obregon    Colima            Ciudad del Carmen Campeche         \n",
      " [5] Chetumal          Ciudad Victoria   Guaymas           Loreto           \n",
      " [9] Matamoros         Nuevo Laredo      Nogales           Poza Rica        \n",
      "[13] Puebla            Puerto Escondido  Tehuacan          Tepic            \n",
      "[17] Tamuin            Uruapan          \n",
      "18 Levels: Campeche Chetumal Ciudad del Carmen ... Uruapan\n"
     ]
    }
   ],
   "source": [
    "my_matrix <- matrix(data = 1:16, nrow = 4, ncol = 4)\n",
    "print(apply(my_matrix, 2, min))  # Aplication of apply\n",
    "my_list <- list(\"Introduction\", \"to\", \"the\", \"Stadistical\", \"Programmation\", \"with\", \"R\")\n",
    "print(lapply(my_list, toupper)) # lapply is usefull is for lists\n",
    "asa_data <- read.csv(\"data/ASA_estadisticasPasajeros.csv\") \n",
    "print(lapply(asa_data, class)) # Ypu can use lapply in dataframe\n",
    "print(unique(asa_data$Descripcion)) # You can see unique values with unique() function"
   ]
  },
  {
   "cell_type": "code",
   "execution_count": 63,
   "id": "83ee87b1-be7c-4e04-9468-13be4be49150",
   "metadata": {},
   "outputs": [
    {
     "name": "stdout",
     "output_type": "stream",
     "text": [
      "$Pasajeros.nacionales\n",
      "[1] 2291419\n",
      "\n",
      "$Pasajeros.internacionales\n",
      "[1] 176741\n",
      "\n",
      "\n",
      "Baja California  Sur             Campeche               Colima \n",
      "                  12                   24                   12 \n",
      "           Michoacan              Nayarit               Oaxaca \n",
      "                  12                   12                   12 \n",
      "              Puebla         Quintana Roo      San Luis Potosi \n",
      "                  24                   12                   12 \n",
      "              Sonora           Tamaulipas             Veracruz \n",
      "                  36                   36                   12 \n",
      "Baja California  Sur             Campeche               Colima \n",
      "               12602               769864               112656 \n",
      "           Michoacan              Nayarit               Oaxaca \n",
      "               95635               113043               181706 \n",
      "              Puebla         Quintana Roo      San Luis Potosi \n",
      "              267567               179259                 1598 \n",
      "              Sonora           Tamaulipas             Veracruz \n",
      "              253788               243126                60575 \n"
     ]
    }
   ],
   "source": [
    "asa_passengers <- asa_data[,c(\"Pasajeros.nacionales\", \"Pasajeros.internacionales\")] # Select only two columns\n",
    "print(lapply(asa_passengers, sum)) # Get sum of two columns\n",
    "print(table(asa_data$Estado)) # Print values of State\n",
    "print(tapply(asa_data$Pasajeros.nacionales, asa_data$Estado, sum)) # tapply calcute data with agruppation, first\n",
    "# is vecto, second is indexes, and last is function to apply."
   ]
  },
  {
   "cell_type": "markdown",
   "id": "325681fd-c35e-42de-9370-90a9297dbaa8",
   "metadata": {},
   "source": [
    "## Grafication\n",
    "In this section I show you the principal R's tools to graph."
   ]
  },
  {
   "cell_type": "code",
   "execution_count": 21,
   "id": "7db826e6-e468-440a-a7b3-74389762e988",
   "metadata": {},
   "outputs": [
    {
     "data": {
      "image/png": "[encoded data removed]",
      "text/plain": [
       "Plot with title \"My chart\""
      ]
     },
     "metadata": {},
     "output_type": "display_data"
    }
   ],
   "source": [
    "plot(1:5, type = \"b\", main = \"My chart\", sub = \"First chart\", xlab = \"x\", ylab = \"y\", asp = 1.25) # Types p: default (points), l: lines, b: both, c: lines with no points, o: lines and points completed, h: histogram, s: scale, S: another scale, n: no graph. \n",
    "# main: title, sub: subtitle, xlab: name x axis, ylab: name y axis, asp = x/y ratio\n",
    "points(c(1, 5), c(4, 2), col=\"blue\", bg = \"blue\", pch = \"0\") # Print points in actual chart, col: color, bg: fill, pch: symbol\n",
    "lines(c(1, 4), c(2, 5), col=\"green\") # To print lines\n",
    "abline(h=3,col=\"red\",lty=2) # Only one line h:horizonta, v: vertical\n",
    "abline(h=1:5,v=1:5, col=\"purple\") # Cuadricule"
   ]
  },
  {
   "cell_type": "code",
   "execution_count": 22,
   "id": "5d438958-6f71-4b14-b378-f2f50e5f8b3a",
   "metadata": {},
   "outputs": [
    {
     "data": {
      "text/html": [
       "<table>\n",
       "<thead><tr><th scope=col>Sepal.Length</th><th scope=col>Sepal.Width</th><th scope=col>Petal.Length</th><th scope=col>Petal.Width</th><th scope=col>Species</th></tr></thead>\n",
       "<tbody>\n",
       "\t<tr><td>5.1   </td><td>3.5   </td><td>1.4   </td><td>0.2   </td><td>setosa</td></tr>\n",
       "\t<tr><td>4.9   </td><td>3.0   </td><td>1.4   </td><td>0.2   </td><td>setosa</td></tr>\n",
       "\t<tr><td>4.7   </td><td>3.2   </td><td>1.3   </td><td>0.2   </td><td>setosa</td></tr>\n",
       "\t<tr><td>4.6   </td><td>3.1   </td><td>1.5   </td><td>0.2   </td><td>setosa</td></tr>\n",
       "\t<tr><td>5.0   </td><td>3.6   </td><td>1.4   </td><td>0.2   </td><td>setosa</td></tr>\n",
       "\t<tr><td>5.4   </td><td>3.9   </td><td>1.7   </td><td>0.4   </td><td>setosa</td></tr>\n",
       "</tbody>\n",
       "</table>\n"
      ],
      "text/latex": [
       "\\begin{tabular}{r|lllll}\n",
       " Sepal.Length & Sepal.Width & Petal.Length & Petal.Width & Species\\\\\n",
       "\\hline\n",
       "\t 5.1    & 3.5    & 1.4    & 0.2    & setosa\\\\\n",
       "\t 4.9    & 3.0    & 1.4    & 0.2    & setosa\\\\\n",
       "\t 4.7    & 3.2    & 1.3    & 0.2    & setosa\\\\\n",
       "\t 4.6    & 3.1    & 1.5    & 0.2    & setosa\\\\\n",
       "\t 5.0    & 3.6    & 1.4    & 0.2    & setosa\\\\\n",
       "\t 5.4    & 3.9    & 1.7    & 0.4    & setosa\\\\\n",
       "\\end{tabular}\n"
      ],
      "text/markdown": [
       "\n",
       "| Sepal.Length | Sepal.Width | Petal.Length | Petal.Width | Species |\n",
       "|---|---|---|---|---|\n",
       "| 5.1    | 3.5    | 1.4    | 0.2    | setosa |\n",
       "| 4.9    | 3.0    | 1.4    | 0.2    | setosa |\n",
       "| 4.7    | 3.2    | 1.3    | 0.2    | setosa |\n",
       "| 4.6    | 3.1    | 1.5    | 0.2    | setosa |\n",
       "| 5.0    | 3.6    | 1.4    | 0.2    | setosa |\n",
       "| 5.4    | 3.9    | 1.7    | 0.4    | setosa |\n",
       "\n"
      ],
      "text/plain": [
       "  Sepal.Length Sepal.Width Petal.Length Petal.Width Species\n",
       "1 5.1          3.5         1.4          0.2         setosa \n",
       "2 4.9          3.0         1.4          0.2         setosa \n",
       "3 4.7          3.2         1.3          0.2         setosa \n",
       "4 4.6          3.1         1.5          0.2         setosa \n",
       "5 5.0          3.6         1.4          0.2         setosa \n",
       "6 5.4          3.9         1.7          0.4         setosa "
      ]
     },
     "metadata": {},
     "output_type": "display_data"
    }
   ],
   "source": [
    "data(\"iris\")\n",
    "head(iris)"
   ]
  },
  {
   "cell_type": "code",
   "execution_count": 30,
   "id": "1a2f4672-7d22-4390-b6d6-1ad6e6249830",
   "metadata": {},
   "outputs": [
    {
     "data": {
      "image/png": "[encoded data removed]",
      "text/plain": [
       "plot without title"
      ]
     },
     "metadata": {},
     "output_type": "display_data"
    },
    {
     "data": {
      "image/png": "[encoded data removed]",
      "text/plain": [
       "plot without title"
      ]
     },
     "metadata": {},
     "output_type": "display_data"
    }
   ],
   "source": [
    "plot(iris) #Plot generical dataframe\n",
    "plot(iris$Petal.Length, iris$Petal.Width)"
   ]
  },
  {
   "cell_type": "code",
   "execution_count": 32,
   "id": "74b5b129-efbe-4a43-8fe0-d26b115f3b24",
   "metadata": {},
   "outputs": [
    {
     "data": {
      "image/png": "[encoded data removed]",
      "text/plain": [
       "Plot with title \"Histogram of iris$Petal.Length\""
      ]
     },
     "metadata": {},
     "output_type": "display_data"
    }
   ],
   "source": [
    "hist(iris$Petal.Length, col=\"red\", freq = F) # For histogram"
   ]
  },
  {
   "cell_type": "code",
   "execution_count": 33,
   "id": "bfc34bd3-b6c1-402c-a181-72deff2e911f",
   "metadata": {},
   "outputs": [
    {
     "data": {
      "image/png": "[encoded data removed]",
      "text/plain": [
       "plot without title"
      ]
     },
     "metadata": {},
     "output_type": "display_data"
    }
   ],
   "source": [
    "boxplot(Sepal.Width ~ Species, data=iris, col=2:4) # To box chart"
   ]
  },
  {
   "cell_type": "code",
   "execution_count": 34,
   "id": "35792f53-e562-4ac9-8d17-ab5e71cd8dbe",
   "metadata": {},
   "outputs": [
    {
     "data": {
      "image/png": "[encoded data removed]",
      "text/plain": [
       "plot without title"
      ]
     },
     "metadata": {},
     "output_type": "display_data"
    }
   ],
   "source": [
    "pie(c(50, 50, 50), labels=levels(iris$Species)) # values is firts value, labels for pie chart"
   ]
  },
  {
   "cell_type": "code",
   "execution_count": 36,
   "id": "35030973-ad0e-4cad-84f0-275134fe9bb8",
   "metadata": {},
   "outputs": [
    {
     "data": {
      "image/png": "[encoded data removed]",
      "text/plain": [
       "plot without title"
      ]
     },
     "metadata": {},
     "output_type": "display_data"
    }
   ],
   "source": [
    "# par() function is used to define all parameters in general formto all charts\n",
    "par(pch = 15) # Set symbol\n",
    "plot(iris$Sepal.Length, iris$Petal.Length, col = iris$Species)"
   ]
  },
  {
   "cell_type": "code",
   "execution_count": 39,
   "id": "2cdecbd5-8b53-4f2d-8357-6bdb349bb7f5",
   "metadata": {},
   "outputs": [
    {
     "data": {
      "image/png": "[encoded data removed]",
      "text/plain": [
       "plot without title"
      ]
     },
     "metadata": {},
     "output_type": "display_data"
    },
    {
     "data": {
      "image/png": "[encoded data removed]",
      "text/plain": [
       "plot without title"
      ]
     },
     "metadata": {},
     "output_type": "display_data"
    }
   ],
   "source": [
    "plot(iris$Sepal.Length, iris$Petal.Length, col = iris$Species, pch=\"A\")\n",
    "plot(1:26, pch=0:25) # Plot all symbols avabile"
   ]
  },
  {
   "cell_type": "code",
   "execution_count": 44,
   "id": "e7340d60-b073-4d07-8488-6d37f8cecd2c",
   "metadata": {},
   "outputs": [
    {
     "data": {
      "image/png": "[encoded data removed]",
      "text/plain": [
       "plot without title"
      ]
     },
     "metadata": {},
     "output_type": "display_data"
    }
   ],
   "source": [
    "plot(iris$Sepal.Length, iris$Petal.Length, col = iris$Species, cex = 2)\n",
    "legend(x = 4.5, y = 7, legend = unique(iris$Species), col = c(1:3), pch = 16)"
   ]
  },
  {
   "cell_type": "code",
   "execution_count": 47,
   "id": "ad82b922-c651-4369-94e1-2e9c513985df",
   "metadata": {},
   "outputs": [
    {
     "data": {
      "text/html": [
       "<ol class=list-inline>\n",
       "\t<li>'white'</li>\n",
       "\t<li>'aliceblue'</li>\n",
       "\t<li>'antiquewhite'</li>\n",
       "\t<li>'antiquewhite1'</li>\n",
       "\t<li>'antiquewhite2'</li>\n",
       "\t<li>'antiquewhite3'</li>\n",
       "</ol>\n"
      ],
      "text/latex": [
       "\\begin{enumerate*}\n",
       "\\item 'white'\n",
       "\\item 'aliceblue'\n",
       "\\item 'antiquewhite'\n",
       "\\item 'antiquewhite1'\n",
       "\\item 'antiquewhite2'\n",
       "\\item 'antiquewhite3'\n",
       "\\end{enumerate*}\n"
      ],
      "text/markdown": [
       "1. 'white'\n",
       "2. 'aliceblue'\n",
       "3. 'antiquewhite'\n",
       "4. 'antiquewhite1'\n",
       "5. 'antiquewhite2'\n",
       "6. 'antiquewhite3'\n",
       "\n",
       "\n"
      ],
      "text/plain": [
       "[1] \"white\"         \"aliceblue\"     \"antiquewhite\"  \"antiquewhite1\"\n",
       "[5] \"antiquewhite2\" \"antiquewhite3\""
      ]
     },
     "metadata": {},
     "output_type": "display_data"
    },
    {
     "data": {
      "image/png": "[encoded data removed]",
      "text/plain": [
       "Plot with title \"Palette colors\""
      ]
     },
     "metadata": {},
     "output_type": "display_data"
    }
   ],
   "source": [
    "head(colors()) # To see all colors avaible\n",
    "plot(1:8, col=1:8, main=\"Palette colors\", pch=17, cex=3) "
   ]
  },
  {
   "cell_type": "code",
   "execution_count": 48,
   "id": "5f3bada1-001a-4ada-bb99-f5295d967dd1",
   "metadata": {},
   "outputs": [
    {
     "data": {
      "image/png": "[encoded data removed]",
      "text/plain": [
       "Plot with title \"Paleta Arcoiris\""
      ]
     },
     "metadata": {},
     "output_type": "display_data"
    }
   ],
   "source": [
    "rainbow_palette <- rainbow(10) # Create a new palette\n",
    "palette(rainbow_palette) # Set new palette as default\n",
    "plot(1:10, col=1:10, main=\"Paleta Arcoiris\",pch=17, cex=3) # Plot with new palette"
   ]
  },
  {
   "cell_type": "code",
   "execution_count": 54,
   "id": "e7dde961-6576-476c-9e71-36ec07089fbc",
   "metadata": {},
   "outputs": [
    {
     "data": {
      "image/png": "[encoded data removed]",
      "text/plain": [
       "plot without title"
      ]
     },
     "metadata": {},
     "output_type": "display_data"
    }
   ],
   "source": [
    "plot(1:20, type=\"n\")\n",
    "text(5, 5, \"¡Hola Mundo!\")\n",
    "text(11, 11, \"¡Hola Mundo! x2\", cex=2)\n",
    "text(7, 7, \"¡Hola Mundo con Serif!\", family=\"serif\")\n",
    "text(9, 9, \"¡Hola Mundo con Mono!\", family=\"mono\")\n",
    "text(13, 13, \"¡Hola Mundo con Sans!\", family=\"sans\")\n",
    "text(15, 15, expression(alpha + beta))\n",
    "text(13, 17, expression(paste(\"Valores de \", x^phi1)))\n",
    "t<-10\n",
    "text(13, 19, substitute(paste(\" This is text with x value\", x), list(x=t)))\n",
    "t<-20\n",
    "text(13, 20, substitute(paste(\" This is text with x value\", x), list(x=t)))"
   ]
  },
  {
   "cell_type": "code",
   "execution_count": 68,
   "id": "75e8d2d5-fb65-4b32-8f57-7e5373770145",
   "metadata": {},
   "outputs": [
    {
     "data": {
      "text/html": [
       "'Word'"
      ],
      "text/latex": [
       "'Word'"
      ],
      "text/markdown": [
       "'Word'"
      ],
      "text/plain": [
       "[1] \"Word\""
      ]
     },
     "metadata": {},
     "output_type": "display_data"
    },
    {
     "name": "stdout",
     "output_type": "stream",
     "text": [
      "[1] \"Hello Davi!\"\n"
     ]
    },
    {
     "data": {
      "text/html": [
       "11"
      ],
      "text/latex": [
       "11"
      ],
      "text/markdown": [
       "11"
      ],
      "text/plain": [
       "[1] 11"
      ]
     },
     "metadata": {},
     "output_type": "display_data"
    },
    {
     "data": {
      "text/html": [
       "'Bye Word!'"
      ],
      "text/latex": [
       "'Bye Word!'"
      ],
      "text/markdown": [
       "'Bye Word!'"
      ],
      "text/plain": [
       "[1] \"Bye Word!\""
      ]
     },
     "metadata": {},
     "output_type": "display_data"
    },
    {
     "data": {
      "text/html": [
       "'Bye_Word!'"
      ],
      "text/latex": [
       "'Bye\\_Word!'"
      ],
      "text/markdown": [
       "'Bye_Word!'"
      ],
      "text/plain": [
       "[1] \"Bye_Word!\""
      ]
     },
     "metadata": {},
     "output_type": "display_data"
    },
    {
     "data": {
      "text/html": [
       "'El cuadrado de 9 es 81'"
      ],
      "text/latex": [
       "'El cuadrado de 9 es 81'"
      ],
      "text/markdown": [
       "'El cuadrado de 9 es 81'"
      ],
      "text/plain": [
       "[1] \"El cuadrado de 9 es 81\""
      ]
     },
     "metadata": {},
     "output_type": "display_data"
    },
    {
     "data": {
      "text/html": [
       "<ol>\n",
       "\t<li><ol class=list-inline>\n",
       "\t<li>'I'</li>\n",
       "\t<li>'like'</li>\n",
       "\t<li>'R'</li>\n",
       "\t<li>'language'</li>\n",
       "</ol>\n",
       "</li>\n",
       "</ol>\n"
      ],
      "text/latex": [
       "\\begin{enumerate}\n",
       "\\item \\begin{enumerate*}\n",
       "\\item 'I'\n",
       "\\item 'like'\n",
       "\\item 'R'\n",
       "\\item 'language'\n",
       "\\end{enumerate*}\n",
       "\n",
       "\\end{enumerate}\n"
      ],
      "text/markdown": [
       "1. 1. 'I'\n",
       "2. 'like'\n",
       "3. 'R'\n",
       "4. 'language'\n",
       "\n",
       "\n",
       "\n",
       "\n",
       "\n"
      ],
      "text/plain": [
       "[[1]]\n",
       "[1] \"I\"        \"like\"     \"R\"        \"language\"\n"
      ]
     },
     "metadata": {},
     "output_type": "display_data"
    },
    {
     "data": {
      "text/html": [
       "'Hollo Word!'"
      ],
      "text/latex": [
       "'Hollo Word!'"
      ],
      "text/markdown": [
       "'Hollo Word!'"
      ],
      "text/plain": [
       "[1] \"Hollo Word!\""
      ]
     },
     "metadata": {},
     "output_type": "display_data"
    },
    {
     "data": {
      "text/html": [
       "<ol>\n",
       "\t<li><ol class=list-inline>\n",
       "\t<li>17</li>\n",
       "\t<li>51</li>\n",
       "</ol>\n",
       "</li>\n",
       "</ol>\n"
      ],
      "text/latex": [
       "\\begin{enumerate}\n",
       "\\item \\begin{enumerate*}\n",
       "\\item 17\n",
       "\\item 51\n",
       "\\end{enumerate*}\n",
       "\n",
       "\\end{enumerate}\n"
      ],
      "text/markdown": [
       "1. 1. 17\n",
       "2. 51\n",
       "\n",
       "\n",
       "\n",
       "\n",
       "\n"
      ],
      "text/plain": [
       "[[1]]\n",
       "[1] 17 51\n",
       "attr(,\"match.length\")\n",
       "[1] 6 6\n"
      ]
     },
     "metadata": {},
     "output_type": "display_data"
    }
   ],
   "source": [
    "# Regular expressions\n",
    "text <- \"Hello Word!\"\n",
    "substring(text, 7, 10)\n",
    "substring(text, 7, 10) <- \"David\" # Change 4 letter por first four letters in David\n",
    "print(text)\n",
    "nchar(text) # Number of characters\n",
    "paste(\"Bye\", \"Word!\") # Paste words\n",
    "paste(\"Bye\", \"Word!\", sep = \"_\") # Set separator\n",
    "i <- 9\n",
    "sprintf(\"El cuadrado de %d es %d\", i, i^2) # sprintf() to show values of variables in monitor\n",
    "strsplit(\"I/like/R/language\", \"/\") # Separate text\n",
    "chartr(\"e\", \"o\", \"Hello Word!\") # Change values in string\n",
    "pattern <- \".(a|ä|ae|e)ndel\"\n",
    "gregexpr(pattern, \"Georg Friedrich Händel, en inglés George Frideric Handel fue un compositor alemán.\")\n",
    "#gregexpr give all cmatches in a text of patron"
   ]
  },
  {
   "cell_type": "code",
   "execution_count": 69,
   "id": "166618a8-d31e-4994-8dfa-6edaf12dd012",
   "metadata": {},
   "outputs": [
    {
     "data": {
      "text/html": [
       "No documentation for 'qplot' in specified packages and libraries:\n",
       "you could try '??qplot'"
      ],
      "text/latex": [
       "No documentation for 'qplot' in specified packages and libraries:\n",
       "you could try '??qplot'"
      ],
      "text/plain": [
       "No documentation for 'qplot' in specified packages and libraries:\n",
       "you could try '??qplot'"
      ]
     },
     "metadata": {},
     "output_type": "display_data"
    }
   ],
   "source": [
    "?qplot"
   ]
  }
 ],
 "metadata": {
  "kernelspec": {
   "display_name": "R",
   "language": "R",
   "name": "ir"
  },
  "language_info": {
   "codemirror_mode": "r",
   "file_extension": ".r",
   "mimetype": "text/x-r-source",
   "name": "R",
   "pygments_lexer": "r",
   "version": "3.6.1"
  }
 },
 "nbformat": 4,
 "nbformat_minor": 5
}
