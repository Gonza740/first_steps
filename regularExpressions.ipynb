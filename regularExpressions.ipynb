{
 "cells": [
  {
   "cell_type": "markdown",
   "id": "9508900a-3ebb-411f-b63d-f938aa6ad4f8",
   "metadata": {
    "tags": []
   },
   "source": [
    "# Regular Expressions\n",
    "In this notebook we are going to talk about pattern matching in strings using regular expressions. Regular expressions, or regexes, are written in a condensed formatting language. In general, you can thinnk of a regular expression as a pattern which you give to a regex processor with some source data. The processor then parses that source data usgin that pattern, and returns chunks of text back to the a data scientist or programmer for futher manipulation. There's really three main reasons you would want to do this - to check whether a patter exists within some source data, to get all instances of a complex patter from some source data, or to clean your source data using a pattern generally through string splitting. Regexes are not trivial, but they are a foundational technique for data cleaning in data science applications, and a solid understanding of regexs will help you quickly and efficiently manipulate text data further data science application.\n",
    "Now, you could teach a whole course on regular expressions alone, especially if you wanted to demystify hoe the regex parsing engine works and efficient mechanisms for parsing text."
   ]
  },
  {
   "cell_type": "code",
   "execution_count": 1,
   "id": "eb7acc51-f416-4c99-bde1-f893b6b59ccb",
   "metadata": {},
   "outputs": [
    {
     "name": "stdout",
     "output_type": "stream",
     "text": [
      "It doesn't match\n",
      "good is in the string\n",
      "['', '2 works diligently. ', ' gets good grades. Our student ', ' is succesful.']\n",
      "['', '2 works diligently. ', ' gets good grades. Our student ', ' is succesful.']\n",
      "['Amy', 'Amy', 'Amy']\n",
      "Amy is in the start of the String\n",
      "ful. is in the end of the string\n"
     ]
    }
   ],
   "source": [
    "import re # Library which has several functions for regexes\n",
    "\n",
    "text = \"This is a good day\" # A text to manipulate \n",
    "if re.match(\"good\", text): # Match if only for start of the string\n",
    "    print(\"good is in the start of the string\")\n",
    "else:\n",
    "    print(\"It doesn't match\")\n",
    "\n",
    "if re.search(\"good\", text): # Search is for any part of the string\n",
    "    print(\"good is in the string\")\n",
    "else:\n",
    "    print(\"good isn't in the string\")\n",
    "\n",
    "text = \"Amy2 works diligently. Amy gets good grades. Our student Amy is succesful.\"\n",
    "print(re.split(\"Amy\", text)) # Split using split function in re library\n",
    "print(text.split(\"Amy\")) # Split using split function in the strings\n",
    "print(re.findall(\"Amy\", text)) # All elements with Amy in the text\n",
    "if re.search(\"^Amy\", text): print(\"Amy is in the start of the String\") # ^ symbol is used to specify that pattern is in the start of the string \n",
    "if re.search(\"ful.$\", text): print(\"ful. is in the end of the string\") # $ symbol is used to specify that pattern is in the end of the string"
   ]
  },
  {
   "cell_type": "code",
   "execution_count": 2,
   "id": "20b8bd4d-2563-4035-893c-26582a3daea5",
   "metadata": {},
   "outputs": [
    {
     "name": "stdout",
     "output_type": "stream",
     "text": [
      "None\n"
     ]
    }
   ],
   "source": [
    "print(re.match(\"This\", text))"
   ]
  },
  {
   "cell_type": "code",
   "execution_count": 3,
   "id": "6bf86236-ac37-4735-96c6-36587558d6c9",
   "metadata": {},
   "outputs": [
    {
     "name": "stdout",
     "output_type": "stream",
     "text": [
      "['B', 'B', 'B']\n",
      "['A', 'A', 'A', 'A', 'A', 'B', 'B', 'B', 'A', 'A']\n",
      "['AC', 'AB']\n",
      "['AC', 'AB']\n",
      "['C', 'B', 'C', 'B', 'C', 'B']\n",
      "['AAAA', 'AA']\n",
      "['AA', 'AA', 'AA']\n",
      "['AA', 'AA', 'AA']\n",
      "[]\n"
     ]
    }
   ],
   "source": [
    "# Patterns and Character Classes\n",
    "grades = \"ACAAAABCBCBAA\"\n",
    "\n",
    "print(re.findall(\"B\", grades)) # Find all B in string\n",
    "print(re.findall(\"[AB]\", grades)) # Find all A or B in the string\n",
    "print(re.findall(\"A[BC]\", grades)) # Find all match with AB or AC\n",
    "print(re.findall(\"AB|AC\", grades)) # | is or operation AB or AC\n",
    "print(re.findall(\"[^A]\", grades)) # ^ symbol in [] is used to negate the result, all matches which aren´t A\n",
    "# We can use {a, b} as quantifiers\n",
    "print(re.findall(\"A{2,10}\", grades)) # Minimun 2 A and maximun 10 A\n",
    "print(re.findall(\"A{1,1}A{1,1}\", grades)) # Exact 2 A\n",
    "print(re.findall(\"A{2}\", grades)) # Equivalent 2 A\n",
    "print(re.findall(\"A{1, 2}\", grades)) # Be carefull, a space after ',' in quantifiers result in empty match"
   ]
  },
  {
   "cell_type": "code",
   "execution_count": 4,
   "id": "9d0a0088-cab0-455a-b12e-fdbe6f7c5841",
   "metadata": {},
   "outputs": [
    {
     "name": "stdout",
     "output_type": "stream",
     "text": [
      "['Overview[edit]', 'Access to public records[edit]', 'Student medical records[edit]']\n",
      "[('Overview', '[edit]'), ('Access to public records', '[edit]'), ('Student medical records', '[edit]')]\n",
      "Overview\n",
      "Access to public records\n",
      "Student medical records\n",
      "{'title': 'Overview', 'edit_link': '[edit]'}\n",
      "{'title': 'Access to public records', 'edit_link': '[edit]'}\n",
      "{'title': 'Student medical records', 'edit_link': '[edit]'}\n",
      "['Overview', '', 'Access to public records', '', 'Student medical records', '']\n"
     ]
    }
   ],
   "source": [
    "with open(\"data/ferpa.txt\",\"r\") as file:\n",
    "    wiki=file.read()\n",
    "print(re.findall(\"[\\w ]*\\[edit\\]\",wiki)) # This pattern [\\w]* Every word any number os times '*' \\[\\] for match symbols and edit inside []. it works because after title is \\n that is not a word \n",
    "groups = re.findall(\"([\\w ]*)(\\[edit\\])\",wiki) # We can agrupate the parts of the match with ()\n",
    "print(groups)\n",
    "for group in groups:\n",
    "    print(group[0]) # Print only the title\n",
    "#finditer() get all matches but don't return a list, instead of this it return collection os matches\n",
    "matches = re.finditer(\"(?P<title>[\\w ]*)(?P<edit_link>\\[edit\\])\",wiki) # We can agrupate the parts of the match in dictionaries with ?P<> marker, inside <> we put the name of key for this parameter\n",
    "for match in matches:\n",
    "    print(match.groupdict()) # Print as dictionaries all matches\n",
    "    \n",
    "print(re.findall(\"(?P<title>[\\w ]*)(?=\\[edit\\])\",wiki)) # If we need word for match but these aren't interesting for our propouses we can ignorate this with the laber =? "
   ]
  },
  {
   "cell_type": "code",
   "execution_count": 5,
   "id": "f575601c-379f-43f1-888e-e2a9e4b20bda",
   "metadata": {},
   "outputs": [
    {
     "name": "stdout",
     "output_type": "stream",
     "text": [
      "{'title': 'Dhammakaya Open University ', 'city': 'Azusa', 'state': 'California'}\n",
      "{'title': 'Dharmakirti College ', 'city': 'Tucson', 'state': 'Arizona'}\n",
      "{'title': 'Dharma Realm Buddhist University ', 'city': 'Ukiah', 'state': 'California'}\n",
      "{'title': 'Ewam Buddhist Institute ', 'city': 'Arlee', 'state': 'Montana'}\n",
      "{'title': 'Institute of Buddhist Studies ', 'city': 'Berkeley', 'state': 'California'}\n",
      "{'title': 'Maitripa College ', 'city': 'Portland', 'state': 'Oregon'}\n",
      "{'title': 'University of the West ', 'city': 'Rosemead', 'state': 'California'}\n",
      "{'title': 'Won Institute of Graduate Studies ', 'city': 'Glenside', 'state': 'Pennsylvania'}\n",
      "['#askwell', '#pregnancy', '#Colorado', '#VegetarianThanksgiving', '#FallPrevention', '#Ebola', '#Ebola', '#ebola', '#Ebola', '#Ebola']\n"
     ]
    }
   ],
   "source": [
    "# Next lets see other examples of regex with other documents\n",
    "with open(\"data/buddhist.txt\",\"r\", encoding = 'utf8') as file:\n",
    "    # we'll read that into a variable called wiki\n",
    "    wiki = file.read()\n",
    "# and lets print that variable out to the screen\n",
    "# Ther verbose mode allows you to write multi - line regexes and increase readability. For this mode, we have to explicitly indicate all whitespace characters, either by prependinf them with a \\ or\n",
    "# by using the \\s special value. However, this mean we can write pur regex a bit more like code, and can even include comments with #\n",
    "pattern = \"\"\"\n",
    "(?P<title>.*)        #the university title\n",
    "(–\\ located\\ in\\ )   #an indicator of the location\n",
    "(?P<city>\\w*)        #city the university is in\n",
    "(,\\ )                #separator for the state\n",
    "(?P<state>\\w*)       #the state the city is located in\"\"\"\n",
    "matches = re.finditer(pattern, wiki, re.VERBOSE)\n",
    "for match in matches:\n",
    "    print(match.groupdict())\n",
    "    \n",
    "# Here's another example from the New York Times which covers health tweets on news items. This data came from\n",
    "# the UC Irvine Machine Learning Repository which is a great source of different kinds of data\n",
    "with open(\"data/nytimeshealth.txt\",\"r\", encoding = 'utf8') as file:\n",
    "    # We'll read everything into a variable and take a look at it\n",
    "    health=file.read()\n",
    "pattern = \"#[\\w\\d]*(?=\\s)\" # Pattern for find hastag in document\n",
    "print(re.findall(pattern, health)[:10]) # Show the first 10 elements"
   ]
  },
  {
   "cell_type": "markdown",
   "id": "7ab1f9cc-8083-4610-ae2a-e13c6cd18fb4",
   "metadata": {
    "tags": []
   },
   "source": [
    "## Look ahead and look behind\n",
    "Another form to use regex is with capturing groups an look ahead and look behind"
   ]
  },
  {
   "cell_type": "code",
   "execution_count": 25,
   "id": "78d94eee-f6da-4c8a-b8b1-72efea75a7cf",
   "metadata": {},
   "outputs": [
    {
     "name": "stdout",
     "output_type": "stream",
     "text": [
      "['ab']\n",
      "['abx']\n",
      "['ac']\n",
      "['b', 'c']\n",
      "['a', 'x', 'a', 'y', 'a']\n"
     ]
    }
   ],
   "source": [
    "text = 'abxacya'\n",
    "print(re.findall(\"a(?=b)\\w{1}\", text)) # See ?= match a in ab but no a in ac, dont create a group for b, b is added by \\w{1} which match one letter or digit more\n",
    "print(re.findall(\"a(?:b)\\w{1}\", text)) # See ?: match a in ab an create a group for b, \\w{1} add x in this case\n",
    "print(re.findall(\"a(?!b)\\w{1}\", text)) # See ?! match a in ac because negate b, not create a group for b\n",
    "print(re.findall(\"(?<=a)\\w{1}\", text)) # See ?<= match when a is before a letter and dont capture this\n",
    "print(re.findall(\"(?<!a)\\w{1}\", text)) # See ?<! negate ?<= and match when a isn't before a letter"
   ]
  }
 ],
 "metadata": {
  "kernelspec": {
   "display_name": "Python 3 (ipykernel)",
   "language": "python",
   "name": "python3"
  },
  "language_info": {
   "codemirror_mode": {
    "name": "ipython",
    "version": 3
   },
   "file_extension": ".py",
   "mimetype": "text/x-python",
   "name": "python",
   "nbconvert_exporter": "python",
   "pygments_lexer": "ipython3",
   "version": "3.8.5"
  }
 },
 "nbformat": 4,
 "nbformat_minor": 5
}
