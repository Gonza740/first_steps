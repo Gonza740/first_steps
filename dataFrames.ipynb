{
 "cells": [
  {
   "cell_type": "markdown",
   "id": "1e0a8886-dd4c-41ee-b625-d151dcd9501b",
   "metadata": {
    "tags": []
   },
   "source": [
    "# Pandas Library\n",
    "Pandas was created by Wes McKinney in 2008, and is an open source project under a very permissive license. As an open sourse prroject it's got a strong community, with over one hundred software developers all committing code to help make it better. Before pandas existed we had only hodge podge of tools to use, such as numpy, the python core libraries, and some python statistical tools. But pandas has quickly become the defacto library for representing relational data scientists.\n",
    "I want to take a moment here to introduce the question answersing site Stack Overflow. Stack Overflow is used brodly within the software development community to post questions about programming, programming languages, and programming toolkits. What's special about Stack Overflow is that it's heavily curated by the community. And the Pandas community, in particular, uses it as their number one resource for helping new members. It's quite possible if you post a question to Stack Overflow, and tag it as being Pandas and Python related, that a core Pandas developer will actually respond to your question. In addition to posting questions, Stack Overflow is a great place to go to see what issues people are havind and how they can be solved. You can learn a lot from browsing Stacks at Stack Overflow and with pandas, this is where the developer community is.\n",
    "A second resource you might want to consider are books. In 2021 Wes McKinney wrote the definitive Pandas reference book called Python for Data Analysis and published by O'Reilly, and it's recently been update to a second edition. I consider this the go to book for understanding how Pandas works. I also appreciate the more brief book \"Learning the Pandas Library\" by Matt Harrison. It's not a comprehensive book on data analysis and statistics. But if you just want to learn the basics of Pandas and want to do do quickly, I think it's a well laid out volume and it can be had for a good price.\n",
    "The field of data science is rapidly changing. There's new toolkits and method being created everyday. It can be tough to say on top of it all. Marco Rodriguez and Tim Golden maintain a wonderful blog aggregator site called Planet Pyhton. Ypu can visit the webpage at planetpython.org, suscribe with an RSS reader, or get the latest articles from the the @PlanetPython Twitter feed. There's lots of regular Python data science contributos, and I highly recommend it if you follow RSS feeds.\n",
    "## Series \n",
    "The series is one of tyhe core data structures in pandas. You think it a cross between a list and a dictionary. The items are all stored in an order and there's labels with which you can retrieve them. An easy way to visualize this is two columns of data. The first is the special index, a lot like keys in a dictionary. While the second is your actual data. It's important to note that the data column has a label of its own and can be retrieved using the name attribute. This is different than with dicitionaries and is useful when it comes to merging multiple columns of data. And we'll talk about that later on in the course"
   ]
  },
  {
   "cell_type": "code",
   "execution_count": 11,
   "id": "afeaa831-67fe-414e-bcd2-5f7dd3ec8b46",
   "metadata": {},
   "outputs": [
    {
     "name": "stdout",
     "output_type": "stream",
     "text": [
      "0    Alice\n",
      "1     Jack\n",
      "2    Molly\n",
      "dtype: object\n",
      "0    1\n",
      "1    2\n",
      "2    3\n",
      "dtype: int64\n",
      "0    Alice\n",
      "1     Jack\n",
      "2     None\n",
      "dtype: object\n",
      "0    1.0\n",
      "1    2.0\n",
      "2    NaN\n",
      "dtype: float64\n",
      "False\n",
      "False\n",
      "True\n",
      "Alice      Physics\n",
      "Jack     Chemistry\n",
      "Molly      English\n",
      "dtype: object\n",
      "0    (Alice, Brown)\n",
      "1     (Jack, White)\n",
      "2    (Molly, Green)\n",
      "dtype: object\n",
      "Alice      Physics\n",
      "Jack     Chemistry\n",
      "Molly      English\n",
      "dtype: object\n",
      "Alice    Physics\n",
      "Molly    English\n",
      "Sam          NaN\n",
      "dtype: object\n"
     ]
    }
   ],
   "source": [
    "import pandas as pd # Import pandas library\n",
    "import numpy as np\n",
    "\n",
    "print(pd.Series(['Alice', 'Jack', 'Molly'])) # Index start in 0 automatically, it will be a object type\n",
    "print(pd.Series([1, 2, 3])) # Type will be int64 beacuse it is stored using numpy library. \n",
    "print(pd.Series(['Alice', 'Jack', None])) # If we have a mnissing data in objects, the type will be object too\n",
    "print(pd.Series([1, 2, None])) # If we have a missing data in int. the type will be float 64 with special value for None: NaN\n",
    "print(np.nan == None) # NaN is not the same of None\n",
    "print(np.nan == np.nan) # NaN is not equal itself\n",
    "print(np.isnan(np.nan)) # To verifecate if a value es nan we need to use isnan function os numpy library\n",
    "print(pd.Series({'Alice': 'Physics', 'Jack': 'Chemistry', 'Molly': 'English'})) # If we create a Serie with dictionary, the index will be automatically asign the keys\n",
    "print(pd.Series([('Alice', 'Brown'), ('Jack', 'White'), ('Molly', 'Green')])) # Serie with more complex data, tuples in this case\n",
    "print(pd.Series(['Physics', 'Chemistry', 'English'], index = ['Alice', 'Jack', 'Molly']))\n",
    "print(pd.Series({'Alice': 'Physics', 'Jack': 'Chemistry', 'Molly': 'English'}, index = ['Alice', 'Molly', 'Sam'])) # If we provide index in dictionary, the values which don't have match if fill with nan"
   ]
  },
  {
   "cell_type": "markdown",
   "id": "d9dfc2d0-6acd-4921-a826-ead42c1e6887",
   "metadata": {},
   "source": [
    "Net we'll talk about one of the primary data types of the Pandas library, the Series. You'll lear about the structure of the Series, how to query and merge Series objects together, and the importance of thinking about parallelization  whe engaging in data science programming."
   ]
  },
  {
   "cell_type": "code",
   "execution_count": 16,
   "id": "a26e1ebd-4250-42ed-ad52-f02684d374df",
   "metadata": {},
   "outputs": [
    {
     "name": "stdout",
     "output_type": "stream",
     "text": [
      "Alice      Physics\n",
      "Jack     Chemistry\n",
      "Molly      English\n",
      "Sam        History\n",
      "dtype: object\n",
      "History\n",
      "English\n",
      "History\n",
      "English\n"
     ]
    }
   ],
   "source": [
    "serie = pd.Series({'Alice': 'Physics', 'Jack': 'Chemistry', 'Molly': 'English', 'Sam': 'History'})\n",
    "print(serie)\n",
    "print(serie.iloc[3]) # get the four entry in data set, to search by number of entry we need to use iloc\n",
    "print(serie.loc['Molly']) # To search by name of entry we need to use loc\n",
    "# Keep in mind that iloc and loc are not methods, they are attributes. So you don't use parentheses to query them, but square brackets instead, which is called the indexing operator.\n",
    "# Python try to do more simple and readable the sintaxes and show the value withouth loc and iloc function\n",
    "print(serie[3])\n",
    "print(serie['Molly']) # But if the indexes cause confused "
   ]
  },
  {
   "cell_type": "code",
   "execution_count": 17,
   "id": "a1a2e76e-16d4-4eee-9b7d-329e1988a5cf",
   "metadata": {},
   "outputs": [
    {
     "data": {
      "text/plain": [
       "0    824\n",
       "1    443\n",
       "2    961\n",
       "3      7\n",
       "4    295\n",
       "dtype: int32"
      ]
     },
     "execution_count": 17,
     "metadata": {},
     "output_type": "execute_result"
    }
   ],
   "source": [
    "# If we have two option for select a way to do somenthing in Series is better select which implemented in numpy because it use parallel programing. Lets see a diference\n",
    "numbers = pd.Series(np.random.randint(0, 1000, 10000))\n",
    "numbers.head()"
   ]
  },
  {
   "cell_type": "code",
   "execution_count": 19,
   "id": "3c479006-8304-4676-801b-77e04885bd7c",
   "metadata": {},
   "outputs": [
    {
     "name": "stdout",
     "output_type": "stream",
     "text": [
      "1.57 ms ± 182 µs per loop (mean ± std. dev. of 7 runs, 100 loops each)\n"
     ]
    }
   ],
   "source": [
    "%%timeit -n 100\n",
    "total = 0\n",
    "for number in numbers:\n",
    "    total += number\n",
    "    \n",
    "total/len(numbers)\n",
    "#In this example we usea a iterative method"
   ]
  },
  {
   "cell_type": "code",
   "execution_count": 22,
   "id": "892da137-b09f-4f45-92e1-ce967f95caff",
   "metadata": {},
   "outputs": [
    {
     "name": "stdout",
     "output_type": "stream",
     "text": [
      "96.3 µs ± 13.4 µs per loop (mean ± std. dev. of 7 runs, 100 loops each)\n"
     ]
    }
   ],
   "source": [
    "%%timeit -n 100\n",
    "total = np.sum(numbers)\n",
    "    \n",
    "total/len(numbers)\n",
    "#In this example we usea a iterative method\n",
    "# We can make a mathematics operations in simple way, and it's the better form to do it. Lets see some example"
   ]
  },
  {
   "cell_type": "code",
   "execution_count": 30,
   "id": "4133b630-b6cb-4309-b199-ceb064108c49",
   "metadata": {},
   "outputs": [
    {
     "name": "stdout",
     "output_type": "stream",
     "text": [
      "278 ms ± 7.98 ms per loop (mean ± std. dev. of 7 runs, 10 loops each)\n"
     ]
    }
   ],
   "source": [
    "%%timeit -n 10\n",
    "numbers = pd.Series(np.random.randint(0, 1000, 10000))\n",
    "for label, value in numbers.iteritems():\n",
    "    numbers.loc[label] = value + 2\n",
    "# This example use a iterative form"
   ]
  },
  {
   "cell_type": "code",
   "execution_count": 31,
   "id": "ec8a282a-304d-4198-b120-5903dbb464db",
   "metadata": {},
   "outputs": [
    {
     "name": "stdout",
     "output_type": "stream",
     "text": [
      "266 µs ± 29.9 µs per loop (mean ± std. dev. of 7 runs, 10 loops each)\n"
     ]
    }
   ],
   "source": [
    "%%timeit -n 10\n",
    "numbers = pd.Series(np.random.randint(0, 1000, 10000))\n",
    "numbers+=2"
   ]
  },
  {
   "cell_type": "code",
   "execution_count": 37,
   "id": "1a9d7ab1-10e4-4f4f-b145-3663eaa8eb96",
   "metadata": {},
   "outputs": [
    {
     "name": "stdout",
     "output_type": "stream",
     "text": [
      "Alice      Physics\n",
      "Jack     Chemistry\n",
      "Molly      English\n",
      "Sam        History\n",
      "dtype: object\n",
      "Kelly    Philosophy\n",
      "Kelly          Arts\n",
      "Kelly          Math\n",
      "dtype: object\n",
      "Alice       Physics\n",
      "Jack      Chemistry\n",
      "Molly       English\n",
      "Sam         History\n",
      "Kelly    Philosophy\n",
      "Kelly          Arts\n",
      "Kelly          Math\n",
      "dtype: object\n",
      "Kelly    Philosophy\n",
      "Kelly          Arts\n",
      "Kelly          Math\n",
      "dtype: object\n"
     ]
    }
   ],
   "source": [
    "students_classes = pd.Series({'Alice': 'Physics',\n",
    "                   'Jack': 'Chemistry',\n",
    "                   'Molly': 'English',\n",
    "                   'Sam': 'History'})\n",
    "print(students_classes)\n",
    "kelly_classes = pd.Series(['Philosophy', 'Arts', 'Math'], index=['Kelly', 'Kelly', 'Kelly'])\n",
    "print(kelly_classes)\n",
    "all_students_classes = pd.concat([students_classes, kelly_classes])\n",
    "print(all_students_classes)\n",
    "print(all_students_classes['Kelly'])"
   ]
  },
  {
   "cell_type": "code",
   "execution_count": null,
   "id": "ba9b9b22-d455-45fb-9ede-47d8d975c50b",
   "metadata": {},
   "outputs": [],
   "source": []
  }
 ],
 "metadata": {
  "kernelspec": {
   "display_name": "Python 3 (ipykernel)",
   "language": "python",
   "name": "python3"
  },
  "language_info": {
   "codemirror_mode": {
    "name": "ipython",
    "version": 3
   },
   "file_extension": ".py",
   "mimetype": "text/x-python",
   "name": "python",
   "nbconvert_exporter": "python",
   "pygments_lexer": "ipython3",
   "version": "3.8.5"
  }
 },
 "nbformat": 4,
 "nbformat_minor": 5
}
