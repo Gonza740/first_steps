{
 "cells": [
  {
   "cell_type": "markdown",
   "id": "f8fcf9e5-c8ac-4669-9728-c6e56261686b",
   "metadata": {},
   "source": [
    "# Python Language\n",
    "## Functions\n",
    "### In order to start with python programmation, is necessary to understand the basic syntaxes of this popular language. The next cells show the most important examples of python use."
   ]
  },
  {
   "cell_type": "code",
   "execution_count": 1,
   "id": "0c3541fe-caae-4703-acab-0c7e8b4146f1",
   "metadata": {},
   "outputs": [
    {
     "name": "stdout",
     "output_type": "stream",
     "text": [
      "3\n"
     ]
    }
   ],
   "source": [
    "# The variables are declared with '=' symbol, and python assigns type and value automatically. After declaring the variables we can use this for operations like the sum.\n",
    "# A useful function in python for show results is 'print()' which prints the variable value or the result of a simple operation.\n",
    "x = 1\n",
    "y = 2\n",
    "print(x+y)"
   ]
  },
  {
   "cell_type": "code",
   "execution_count": 2,
   "id": "3538eabb-9f43-44df-962b-dd1f0b018e5b",
   "metadata": {},
   "outputs": [
    {
     "data": {
      "text/plain": [
       "2"
      ]
     },
     "execution_count": 2,
     "metadata": {},
     "output_type": "execute_result"
    }
   ],
   "source": [
    "y # The value of the variable is still the same after running the last cell"
   ]
  },
  {
   "cell_type": "code",
   "execution_count": 3,
   "id": "327db5ba-5875-411f-9146-0bfddbadf7df",
   "metadata": {},
   "outputs": [
    {
     "name": "stdout",
     "output_type": "stream",
     "text": [
      "3\n"
     ]
    }
   ],
   "source": [
    "# The functions are structures that use values assigned by the user or inherent of their to make simple or complicated operations and return or not a value\n",
    "# To start a function it's necessary to use 'def' word followed by the function name and parameters optionally\n",
    "def add_numbers(x,y):\n",
    "    return x+y\n",
    "\n",
    "print(add_numbers(1,2))"
   ]
  },
  {
   "cell_type": "code",
   "execution_count": 16,
   "id": "0c771a48-4e9c-4580-b3a3-aa2f9f9427fe",
   "metadata": {},
   "outputs": [
    {
     "name": "stdout",
     "output_type": "stream",
     "text": [
      "3\n",
      "6\n"
     ]
    }
   ],
   "source": [
    "# The function can use optional parameters. These parameters use a predetermined value assigned by the '=' symbol in the declaration of the function. \n",
    "# If this valor is assigned by the user, the predetermined value is ignored \n",
    "def add_numbers(x,y,z=None):\n",
    "    if(z==None):\n",
    "        return x+y\n",
    "    else:\n",
    "        return x+y+z\n",
    "    \n",
    "print(add_numbers(1,2))\n",
    "print(add_numbers(1,2,3))"
   ]
  },
  {
   "cell_type": "code",
   "execution_count": 5,
   "id": "a365cedc-51ae-42c5-8715-f7507f333aaf",
   "metadata": {},
   "outputs": [
    {
     "name": "stdout",
     "output_type": "stream",
     "text": [
      "13\n"
     ]
    }
   ],
   "source": [
    "# The result of the function can be assigned to a variable\n",
    "a = add_numbers(6,7)\n",
    "print(a)"
   ]
  },
  {
   "cell_type": "markdown",
   "id": "cff82cb0-0724-467e-be04-12388777c6a3",
   "metadata": {
    "tags": []
   },
   "source": [
    "## Types and Sequences\n",
    "### To manipulate data, python provides rich types of variables. To know what type of data is a variable we can use the 'type()' function and send the variable as a parameter."
   ]
  },
  {
   "cell_type": "code",
   "execution_count": 6,
   "id": "764643ba-e1d4-4581-80b7-04eb8ab306d3",
   "metadata": {},
   "outputs": [
    {
     "name": "stdout",
     "output_type": "stream",
     "text": [
      "<class 'str'>\n",
      "<class 'int'>\n",
      "<class 'float'>\n",
      "<class 'NoneType'>\n",
      "<class 'function'>\n",
      "<class 'tuple'>\n",
      "<class 'list'>\n",
      "<class 'dict'>\n"
     ]
    }
   ],
   "source": [
    "print(type(\"This is a string\")) #String type\n",
    "print(type(5)) # Int type\n",
    "print(type(5.0)) # Float type\n",
    "print(type(None)) # None type\n",
    "print(type(add_numbers)) # Function type\n",
    "print(type((1, 3, 4, 5))) # Tuple type\n",
    "print(type([1, 2, 3, 4])) # List Type\n",
    "print(type({'First': 1, 'Second': 3})) #Dictionary type"
   ]
  },
  {
   "cell_type": "markdown",
   "id": "06a97208-52ea-4218-979d-0ec9a2fa4b44",
   "metadata": {
    "tags": []
   },
   "source": [
    "### To manipulate tuple, list and dictionary we have several forms."
   ]
  },
  {
   "cell_type": "code",
   "execution_count": 7,
   "id": "a52f6f77-17c6-4bbc-b606-e7e46ab15f11",
   "metadata": {},
   "outputs": [
    {
     "name": "stdout",
     "output_type": "stream",
     "text": [
      "[1, 2, 3, 4, 5]\n",
      "[2, 3, 4, 5]\n",
      "2\n",
      "3\n",
      "4\n",
      "5\n",
      "[2, 3, 4, 5, 3, 4, 5, 6]\n",
      "[2, 3, 4, 5, 2, 3, 4, 5, 2, 3, 4, 5]\n",
      "False\n"
     ]
    }
   ],
   "source": [
    "x = [1,2,3,4] # This is a list, we can add, remove, use loops through each item in the list.\n",
    "y = [3,4,5,6]\n",
    "x.append(5) # Add an element to the list\n",
    "print(x) \n",
    "x.remove(1) # Remove the element 1 of the list\n",
    "print(x)\n",
    "for item in x:\n",
    "    print(item) # Print each item on the list\n",
    "print(x+y) # With '+' symbol we concatenate lists\n",
    "print(x*3) # Use '*' symbol to repeat the list\n",
    "print(1 in x) # Use 'in' function to check if the element is inside a list"
   ]
  },
  {
   "cell_type": "markdown",
   "id": "1d491b27-ce25-4f41-a8d6-bef0213cdb55",
   "metadata": {
    "tags": []
   },
   "source": [
    "### The strings have very methods of list but not are exactly the same. Let's see some of these operations."
   ]
  },
  {
   "cell_type": "code",
   "execution_count": 8,
   "id": "3a56b85e-7304-4573-8e7e-92db4b5df6fb",
   "metadata": {},
   "outputs": [
    {
     "name": "stdout",
     "output_type": "stream",
     "text": [
      "T\n",
      "T\n",
      "Th\n",
      "g\n",
      "ri\n",
      "Thi\n",
      "s is a string\n"
     ]
    }
   ],
   "source": [
    "x = \"This is a string\"\n",
    "print(x[0]) # First character\n",
    "print(x[0:1]) # First character because x:y y is not included\n",
    "print(x[0:2]) # First two characters\n",
    "print(x[-1]) # Last character\n",
    "print(x[-4:-2]) # Two characters start four elements from the end and stop in 2nd element from the end.\n",
    "print(x[:3]) # Characters from start to 2 (3 is not included)\n",
    "print(x[3:]) # Characters from 3 (4th) to end"
   ]
  },
  {
   "cell_type": "code",
   "execution_count": 9,
   "id": "dc9b3214-165e-47dc-a39a-7c72f1b1e80e",
   "metadata": {},
   "outputs": [
    {
     "name": "stdout",
     "output_type": "stream",
     "text": [
      "David Gonzalez\n",
      "DavidDavidDavid\n",
      "True\n",
      "My name is David Gonzalez\n",
      "Gonzalez2\n"
     ]
    }
   ],
   "source": [
    "# We can concatenate two or more strings with '+' symbol and other functions similar to the list\n",
    "firstname = 'David'\n",
    "lastname = 'Gonzalez'\n",
    "print(firstname + ' ' + lastname)\n",
    "print(firstname*3)\n",
    "print('Dav' in firstname)\n",
    "print(\"My name is {} {}\".format(firstname, lastname)) # This is the better form to print message with variables\n",
    "print(lastname + str(2)) # Only can concatenated string with another string, if we want to concatenate a string with an integer we need to transform the integer into a string with 'str()' function"
   ]
  },
  {
   "cell_type": "code",
   "execution_count": 10,
   "id": "91d16358-0c04-4c6e-95c6-184caceb0536",
   "metadata": {},
   "outputs": [
    {
     "name": "stdout",
     "output_type": "stream",
     "text": [
      "['David', 'Gonzalez']\n",
      "['D', 'vid Gonz', 'lez']\n"
     ]
    }
   ],
   "source": [
    "# Split is useful for separating strings with a character to delimit the end of the word\n",
    "fullname = firstname + ' ' + lastname\n",
    "print(fullname.split(' ')) # Split using empty space as separator\n",
    "print(fullname.split('a')) # Split using 'a' as separator"
   ]
  },
  {
   "cell_type": "markdown",
   "id": "6903e27b-7d5b-4cf2-99c2-b0609bcc45e7",
   "metadata": {},
   "source": [
    "### Tuples and dictionaries are different forms to organize data, tuples are not mutable and dictionaries associate keys with values. Let's see different examples of this."
   ]
  },
  {
   "cell_type": "code",
   "execution_count": 11,
   "id": "68151625-25a1-45ce-b2ff-f37286cc3d17",
   "metadata": {},
   "outputs": [
    {
     "name": "stdout",
     "output_type": "stream",
     "text": [
      "1\n",
      "DavidGonzalez28\n",
      "{'Name': 'David', 'Lastname': 'Gonzalez', 'Age': 27}\n",
      "28\n"
     ]
    }
   ],
   "source": [
    "x = (1,2,3,4) # Tuple\n",
    "print(x[0])\n",
    "z = ('David', 'Gonzalez', 28)\n",
    "name, lastname, age = z # Unpacking values of the tuple\n",
    "print(name+lastname+str(age))\n",
    "y = {'Name': 'David', 'Lastname': 'Gonzalez', 'Age': 27}\n",
    "print(y) # Dictionary\n",
    "y['Age'] = 28 # Change a value in the dictionary using a key for access to this\n",
    "print(y['Age'])"
   ]
  },
  {
   "cell_type": "code",
   "execution_count": 12,
   "id": "56ef2a25-d433-43f0-82e4-56828a3fe1d3",
   "metadata": {},
   "outputs": [
    {
     "name": "stdout",
     "output_type": "stream",
     "text": [
      "The key is Name an its value is David\n",
      "The key is Lastname an its value is Gonzalez\n",
      "The key is Age an its value is 28\n",
      "David\n",
      "Gonzalez\n",
      "28\n",
      "Name\n",
      "Lastname\n",
      "Age\n"
     ]
    }
   ],
   "source": [
    "for key, value in y.items():\n",
    "    print(\"The key is {} an its value is {}\". format(key, value)) # Get elements of the dictionary\n",
    "\n",
    "for value in y.values():\n",
    "    print(value) # Get values of the dictionary\n",
    "\n",
    "for key in y.keys():\n",
    "    print(key) # Get keys of the dictionary"
   ]
  },
  {
   "cell_type": "markdown",
   "id": "453df708-5997-4a95-82d7-ca9ea9e0524e",
   "metadata": {},
   "source": [
    "## Reading and writing csv files\n",
    "### The next section show function and examples for manipulating csv files. This kind of file is very common in data science."
   ]
  },
  {
   "cell_type": "code",
   "execution_count": 13,
   "id": "c03e685f-aacc-40f5-8915-54ec74d58974",
   "metadata": {},
   "outputs": [],
   "source": [
    "import csv #This library has useful functions for manipulating csv files\n",
    "import os #This library is useful for getting paths of files\n",
    "%precision 2\n",
    "with open(os.getcwd() + '\\data\\mpg.csv') as csvfile:\n",
    "    mpg = list(csv.DictReader(csvfile))"
   ]
  },
  {
   "cell_type": "code",
   "execution_count": 14,
   "id": "87593ae5-930e-4d51-8d90-34098caf02c2",
   "metadata": {},
   "outputs": [
    {
     "data": {
      "text/plain": [
       "[{'': '1',\n",
       "  'manufacturer': 'audi',\n",
       "  'model': 'a4',\n",
       "  'displ': '1.8',\n",
       "  'year': '1999',\n",
       "  'cyl': '4',\n",
       "  'trans': 'auto(l5)',\n",
       "  'drv': 'f',\n",
       "  'cty': '18',\n",
       "  'hwy': '29',\n",
       "  'fl': 'p',\n",
       "  'class': 'compact'},\n",
       " {'': '2',\n",
       "  'manufacturer': 'audi',\n",
       "  'model': 'a4',\n",
       "  'displ': '1.8',\n",
       "  'year': '1999',\n",
       "  'cyl': '4',\n",
       "  'trans': 'manual(m5)',\n",
       "  'drv': 'f',\n",
       "  'cty': '21',\n",
       "  'hwy': '29',\n",
       "  'fl': 'p',\n",
       "  'class': 'compact'},\n",
       " {'': '3',\n",
       "  'manufacturer': 'audi',\n",
       "  'model': 'a4',\n",
       "  'displ': '2',\n",
       "  'year': '2008',\n",
       "  'cyl': '4',\n",
       "  'trans': 'manual(m6)',\n",
       "  'drv': 'f',\n",
       "  'cty': '20',\n",
       "  'hwy': '31',\n",
       "  'fl': 'p',\n",
       "  'class': 'compact'}]"
      ]
     },
     "execution_count": 14,
     "metadata": {},
     "output_type": "execute_result"
    }
   ],
   "source": [
    "mpg[:3] #The first three dictionaries in our list."
   ]
  },
  {
   "cell_type": "code",
   "execution_count": 15,
   "id": "7eeb0f52-a7ec-445c-a3c8-bf7a910e89cb",
   "metadata": {},
   "outputs": [
    {
     "name": "stdout",
     "output_type": "stream",
     "text": [
      "234\n",
      "dict_keys(['', 'manufacturer', 'model', 'displ', 'year', 'cyl', 'trans', 'drv', 'cty', 'hwy', 'fl', 'class'])\n",
      "16.858974358974358\n",
      "23.44017094017094\n",
      "{'4', '6', '8', '5'}\n",
      "{'suv', 'pickup', 'midsize', 'compact', '2seater', 'subcompact', 'minivan'}\n"
     ]
    }
   ],
   "source": [
    "print(len(mpg)) #Number of elements en mpg\n",
    "print(mpg[0].keys()) #Keys to the first dictionary in the list\n",
    "print(sum(float(d['cty']) for d in mpg) / len(mpg)) # Average cty fuel economu across all cars\n",
    "print(sum(float(d['hwy']) for d in mpg) / len (mpg)) # Average hwy fuel economy across all cars\n",
    "print(set(d['cyl'] for d in mpg)) # Set is equivalent to unique, show elements without repetitions\n",
    "print(set(d['class'] for d in mpg)) #Set types of vehicles"
   ]
  },
  {
   "cell_type": "markdown",
   "id": "758c3d58-c92b-47fc-9daa-15ecc6471267",
   "metadata": {},
   "source": [
    "## Dates and Times\n",
    "### Python has powerful libraries for manipulating time (last check of english)"
   ]
  },
  {
   "cell_type": "code",
   "execution_count": 21,
   "id": "4adadd7c-2249-4bcc-99ba-99c791f43a13",
   "metadata": {},
   "outputs": [
    {
     "name": "stdout",
     "output_type": "stream",
     "text": [
      "1650666646.2839725\n",
      "2022-04-22 17:30:46.283973\n",
      "Today is 22 of 4 in 2022 year\n",
      "100 days, 0:00:00\n",
      "2022-04-22\n",
      "2022-01-12\n",
      "True\n"
     ]
    }
   ],
   "source": [
    "# Time and dateime libraries have several fuctions to manipulate this kind of data.\n",
    "import datetime as dt\n",
    "import time as tm\n",
    "print(tm.time()) # This function returns the current time in secods since the Eopch (January 1st, 1970)\n",
    "dtnow = dt.datetime.fromtimestamp(tm.time()) # Convert timestamp to datetime (Years, month, days, hours, minutes, seconds, miliseconds)\n",
    "print(dtnow)\n",
    "print(\"Today is {} of {} in {} year\".format(dtnow.day, dtnow.month, dtnow.year)) # Access to atributes of dtnow \n",
    "delta = dt.timedelta(days = 100) #Create a timedelta of 100 days\n",
    "print(delta)\n",
    "today = dt.date.today() # Get today date\n",
    "print(today)\n",
    "print(today - delta) # 100 days ago\n",
    "print(today > today - delta) # Compare dates"
   ]
  },
  {
   "cell_type": "markdown",
   "id": "2904af5f-b03e-44cc-9f23-94a86b2455df",
   "metadata": {},
   "source": [
    "## Objects and map()\n",
    "### In python language is posible create objects and instances for object oriented programation. The 'class' word is used to declarate a new object, function __init__ is the constructor for this class."
   ]
  },
  {
   "cell_type": "code",
   "execution_count": 24,
   "id": "5abdbfeb-9381-4e41-b67e-d8924562de2e",
   "metadata": {},
   "outputs": [
    {
     "name": "stdout",
     "output_type": "stream",
     "text": [
      "The name of this person is No name, the location is No location and the department is School of Information\n",
      "The name of this person is David, the location is Ecuador and the department is School of Information\n"
     ]
    }
   ],
   "source": [
    "class Person:\n",
    "    department = 'School of Information' # a class variable\n",
    "    \n",
    "    def __init__(self, name = \"No name\", location = \"No location\"):\n",
    "        self.name  = name\n",
    "        self.location = location\n",
    "    \n",
    "    def set_name(self, name):\n",
    "        self.name = name\n",
    "    \n",
    "    def set_location(self, location):\n",
    "        self.location = location\n",
    "person = Person() # Create an instance of the class Person\n",
    "print(\"The name of this person is {}, the location is {} and the department is {}\".format(person.name, person.location, person.department)) # Show the predeterminated atributes of this person\n",
    "person.set_name(\"David\") # Change the atributes using set functions\n",
    "person.set_location(\"Ecuador\")\n",
    "print(\"The name of this person is {}, the location is {} and the department is {}\".format(person.name, person.location, person.department)) # Show new atributes"
   ]
  },
  {
   "cell_type": "code",
   "execution_count": 30,
   "id": "5964ff2e-b91f-4a6f-a32e-a1b8de1e0939",
   "metadata": {},
   "outputs": [
    {
     "name": "stdout",
     "output_type": "stream",
     "text": [
      "[8, 11, 12.34, 1]\n"
     ]
    }
   ],
   "source": [
    "# Map use a fuction to aplicate in parallel, It stop when the shortest iterable is exhausted. Let's see an example.\n",
    "store1 = [10, 11, 12.34, 2.34]\n",
    "store2 = [9, 11.1, 12.34, 2.01]\n",
    "store3 = [8, 12, 13, 1]\n",
    "cheapest = map(min, store1, store2, store3) # Use map function\n",
    "print(list(cheapest)) # Show the result"
   ]
  },
  {
   "cell_type": "code",
   "execution_count": 33,
   "id": "ba050d80-6b84-45aa-a765-a4f1315d22ec",
   "metadata": {},
   "outputs": [
    {
     "name": "stdout",
     "output_type": "stream",
     "text": [
      "3\n",
      "[0, 2, 4, 6, 8, 10, 12, 14, 16, 18]\n"
     ]
    }
   ],
   "source": [
    "## Lambda functions \n",
    "### Lambda functions use a simple declaration to generate a function in simple form. It's very useful when we need a create list quickly.\n",
    "my_function = lambda a, b, c : a+b\n",
    "print(my_function(1, 2, 3))\n",
    "my_list = [number for number in range(0, 1000) if number % 2 == 0] # Use to list comprehension\n",
    "print(my_list[:10])"
   ]
  }
 ],
 "metadata": {
  "kernelspec": {
   "display_name": "Python 3 (ipykernel)",
   "language": "python",
   "name": "python3"
  },
  "language_info": {
   "codemirror_mode": {
    "name": "ipython",
    "version": 3
   },
   "file_extension": ".py",
   "mimetype": "text/x-python",
   "name": "python",
   "nbconvert_exporter": "python",
   "pygments_lexer": "ipython3",
   "version": "3.8.5"
  }
 },
 "nbformat": 4,
 "nbformat_minor": 5
}
