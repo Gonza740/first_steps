{
 "cells": [
  {
   "cell_type": "markdown",
   "id": "f8fcf9e5-c8ac-4669-9728-c6e56261686b",
   "metadata": {},
   "source": [
    "# First Steps with python\n",
    "## Dates"
   ]
  },
  {
   "cell_type": "code",
   "execution_count": null,
   "id": "0c3541fe-caae-4703-acab-0c7e8b4146f1",
   "metadata": {},
   "outputs": [],
   "source": []
  }
 ],
 "metadata": {
  "kernelspec": {
   "display_name": "Python 3 (ipykernel)",
   "language": "python",
   "name": "python3"
  },
  "language_info": {
   "codemirror_mode": {
    "name": "ipython",
    "version": 3
   },
   "file_extension": ".py",
   "mimetype": "text/x-python",
   "name": "python",
   "nbconvert_exporter": "python",
   "pygments_lexer": "ipython3",
   "version": "3.8.5"
  }
 },
 "nbformat": 4,
 "nbformat_minor": 5
}
